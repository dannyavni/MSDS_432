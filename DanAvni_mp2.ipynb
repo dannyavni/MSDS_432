{
 "cells": [
  {
   "cell_type": "markdown",
   "metadata": {},
   "source": [
    "## MSDS 432 - Programming Assignment #2 Dan Avni"
   ]
  },
  {
   "cell_type": "markdown",
   "metadata": {},
   "source": [
    "## Executive Summary\n",
    "\n",
    "The purpose of this programming assignment is to "
   ]
  },
  {
   "cell_type": "markdown",
   "metadata": {},
   "source": [
    "## Method and Conclusions\n",
    "\n",
    "In order to \n",
    "<img src=\"./runtime.png\">"
   ]
  },
  {
   "cell_type": "markdown",
   "metadata": {},
   "source": [
    "## Implementation"
   ]
  },
  {
   "cell_type": "code",
   "execution_count": 8,
   "metadata": {},
   "outputs": [],
   "source": [
    "#import required packages\n",
    "import numpy as np\n",
    "import matplotlib.pyplot as plt\n",
    "import pandas as pd\n",
    "import time\n",
    "import string\n",
    "import random"
   ]
  },
  {
   "cell_type": "code",
   "execution_count": 39,
   "metadata": {},
   "outputs": [],
   "source": [
    "# selection sort implemntation retrieved from:\n",
    "# https://github.com/egonSchiele/grokking_algorithms/blob/master/02_selection_sort/python/01_selection_sort.py\n",
    "\n",
    "# Finds the smallest value in an array\n",
    "def findSmallest(arr):\n",
    "  # Stores the smallest value\n",
    "  smallest = arr[0]\n",
    "  # Stores the index of the smallest value\n",
    "  smallest_index = 0\n",
    "  for i in range(1, len(arr)):\n",
    "    if arr[i] < smallest:\n",
    "      smallest_index = i\n",
    "      smallest = arr[i]      \n",
    "  return smallest_index\n",
    "\n",
    "# Sort array\n",
    "def selectionSort(arr):\n",
    "  newArr = []\n",
    "  for i in range(len(arr)):\n",
    "      # Finds the smallest element in the array and adds it to the new array\n",
    "      smallest = findSmallest(arr)\n",
    "      newArr.append(arr.pop(smallest))\n",
    "  return newArr"
   ]
  },
  {
   "cell_type": "code",
   "execution_count": 3,
   "metadata": {},
   "outputs": [
    {
     "name": "stdout",
     "output_type": "stream",
     "text": [
      "[2, 3, 5, 6, 10]\n",
      "['0', 'a', 'c', 'za', 'zz']\n"
     ]
    }
   ],
   "source": [
    "#unit test validation of the selection sort implementation\n",
    "print(selectionSort([5, 3, 6, 2, 10]))\n",
    "print(selectionSort(['a', 'za', 'c', 'zz', '0']))"
   ]
  },
  {
   "cell_type": "code",
   "execution_count": 22,
   "metadata": {},
   "outputs": [],
   "source": [
    "#utility function to generate and array of uniformly distributed data array with persistent seed across calls \n",
    "def generate_random_array(data_type, item_count, low=0, high=10000):\n",
    "    np.random.seed(666)\n",
    "    \n",
    "    if data_type == 'integer':\n",
    "        return np.random.randint(low, high, item_count).tolist()\n",
    "    if data_type == 'str5':\n",
    "        return  [''.join(random.choices(string.ascii_letters, k = 5)) for _ in range(item_count)]\n",
    "    if data_type == 'str15':\n",
    "        return  [''.join(random.choices(string.ascii_letters, k = 15)) for _ in range(item_count)]\n",
    "    if data_type == 'decimal':\n",
    "        return  np.random.uniform(-1, 0, item_count).tolist()\n",
    "        \n",
    "    return None"
   ]
  },
  {
   "cell_type": "code",
   "execution_count": 35,
   "metadata": {},
   "outputs": [],
   "source": [
    "#prepare an array of all the desired data lengths\n",
    "test_data_len_list  = [5000, 10000, 15000, 20000, 25000]\n",
    "test_data_types     = ['integer', 'decimal', 'str5', 'str15']\n",
    "\n",
    "#prepare an empty data frame with the desired column names\n",
    "test_data_col_names = ['length', 'data_type', 'sort_ms']\n",
    "test_data           = pd.DataFrame(columns = test_data_col_names) "
   ]
  },
  {
   "cell_type": "code",
   "execution_count": 36,
   "metadata": {},
   "outputs": [],
   "source": [
    "#iterate over the possible lens, create test data for each length, and compture runtime length in milliseconds\n",
    "for test_data_len in test_data_len_list:\n",
    "    for test_data_type in test_data_types:\n",
    "        data = generate_random_array(test_data_type, test_data_len)\n",
    "    \n",
    "        start   = time.time()\n",
    "        data    = selectionSort(data)\n",
    "        sort_ms = (time.time() - start) * 1000\n",
    "\n",
    "        #insert the results into a new dataframe record \n",
    "        test_data.loc[len(test_data)] = [test_data_len, test_data_type, sort_ms]"
   ]
  },
  {
   "cell_type": "markdown",
   "metadata": {},
   "source": [
    "Below is a tabular representation of the test data. It is useful as the charts fail to show the minute fluctuations in the binary search performance. To get a true read of the binary search performance we will need to run multiple tests and average the results, as well as increase the size. We should also try to execute the code in a virtualized environment where the CPU is under competition from other processes."
   ]
  },
  {
   "cell_type": "code",
   "execution_count": 37,
   "metadata": {},
   "outputs": [
    {
     "data": {
      "text/html": [
       "<div>\n",
       "<style scoped>\n",
       "    .dataframe tbody tr th:only-of-type {\n",
       "        vertical-align: middle;\n",
       "    }\n",
       "\n",
       "    .dataframe tbody tr th {\n",
       "        vertical-align: top;\n",
       "    }\n",
       "\n",
       "    .dataframe thead th {\n",
       "        text-align: right;\n",
       "    }\n",
       "</style>\n",
       "<table border=\"1\" class=\"dataframe\">\n",
       "  <thead>\n",
       "    <tr style=\"text-align: right;\">\n",
       "      <th></th>\n",
       "      <th>length</th>\n",
       "      <th>data_type</th>\n",
       "      <th>sort_ms</th>\n",
       "    </tr>\n",
       "  </thead>\n",
       "  <tbody>\n",
       "    <tr>\n",
       "      <th>0</th>\n",
       "      <td>5000</td>\n",
       "      <td>integer</td>\n",
       "      <td>756.828308</td>\n",
       "    </tr>\n",
       "    <tr>\n",
       "      <th>1</th>\n",
       "      <td>5000</td>\n",
       "      <td>decimal</td>\n",
       "      <td>764.099836</td>\n",
       "    </tr>\n",
       "    <tr>\n",
       "      <th>2</th>\n",
       "      <td>5000</td>\n",
       "      <td>str5</td>\n",
       "      <td>1109.724283</td>\n",
       "    </tr>\n",
       "    <tr>\n",
       "      <th>3</th>\n",
       "      <td>5000</td>\n",
       "      <td>str15</td>\n",
       "      <td>1236.944199</td>\n",
       "    </tr>\n",
       "    <tr>\n",
       "      <th>4</th>\n",
       "      <td>10000</td>\n",
       "      <td>integer</td>\n",
       "      <td>3750.569820</td>\n",
       "    </tr>\n",
       "    <tr>\n",
       "      <th>5</th>\n",
       "      <td>10000</td>\n",
       "      <td>decimal</td>\n",
       "      <td>3787.078381</td>\n",
       "    </tr>\n",
       "    <tr>\n",
       "      <th>6</th>\n",
       "      <td>10000</td>\n",
       "      <td>str5</td>\n",
       "      <td>4579.800606</td>\n",
       "    </tr>\n",
       "    <tr>\n",
       "      <th>7</th>\n",
       "      <td>10000</td>\n",
       "      <td>str15</td>\n",
       "      <td>4885.007381</td>\n",
       "    </tr>\n",
       "    <tr>\n",
       "      <th>8</th>\n",
       "      <td>15000</td>\n",
       "      <td>integer</td>\n",
       "      <td>8583.329201</td>\n",
       "    </tr>\n",
       "    <tr>\n",
       "      <th>9</th>\n",
       "      <td>15000</td>\n",
       "      <td>decimal</td>\n",
       "      <td>11517.954826</td>\n",
       "    </tr>\n",
       "    <tr>\n",
       "      <th>10</th>\n",
       "      <td>15000</td>\n",
       "      <td>str5</td>\n",
       "      <td>12603.532314</td>\n",
       "    </tr>\n",
       "    <tr>\n",
       "      <th>11</th>\n",
       "      <td>15000</td>\n",
       "      <td>str15</td>\n",
       "      <td>13014.879465</td>\n",
       "    </tr>\n",
       "    <tr>\n",
       "      <th>12</th>\n",
       "      <td>20000</td>\n",
       "      <td>integer</td>\n",
       "      <td>10750.267267</td>\n",
       "    </tr>\n",
       "    <tr>\n",
       "      <th>13</th>\n",
       "      <td>20000</td>\n",
       "      <td>decimal</td>\n",
       "      <td>9615.907431</td>\n",
       "    </tr>\n",
       "    <tr>\n",
       "      <th>14</th>\n",
       "      <td>20000</td>\n",
       "      <td>str5</td>\n",
       "      <td>11604.247570</td>\n",
       "    </tr>\n",
       "    <tr>\n",
       "      <th>15</th>\n",
       "      <td>20000</td>\n",
       "      <td>str15</td>\n",
       "      <td>12010.078430</td>\n",
       "    </tr>\n",
       "    <tr>\n",
       "      <th>16</th>\n",
       "      <td>25000</td>\n",
       "      <td>integer</td>\n",
       "      <td>16312.851191</td>\n",
       "    </tr>\n",
       "    <tr>\n",
       "      <th>17</th>\n",
       "      <td>25000</td>\n",
       "      <td>decimal</td>\n",
       "      <td>15712.647915</td>\n",
       "    </tr>\n",
       "    <tr>\n",
       "      <th>18</th>\n",
       "      <td>25000</td>\n",
       "      <td>str5</td>\n",
       "      <td>18257.083893</td>\n",
       "    </tr>\n",
       "    <tr>\n",
       "      <th>19</th>\n",
       "      <td>25000</td>\n",
       "      <td>str15</td>\n",
       "      <td>18620.807648</td>\n",
       "    </tr>\n",
       "  </tbody>\n",
       "</table>\n",
       "</div>"
      ],
      "text/plain": [
       "   length data_type       sort_ms\n",
       "0    5000   integer    756.828308\n",
       "1    5000   decimal    764.099836\n",
       "2    5000      str5   1109.724283\n",
       "3    5000     str15   1236.944199\n",
       "4   10000   integer   3750.569820\n",
       "5   10000   decimal   3787.078381\n",
       "6   10000      str5   4579.800606\n",
       "7   10000     str15   4885.007381\n",
       "8   15000   integer   8583.329201\n",
       "9   15000   decimal  11517.954826\n",
       "10  15000      str5  12603.532314\n",
       "11  15000     str15  13014.879465\n",
       "12  20000   integer  10750.267267\n",
       "13  20000   decimal   9615.907431\n",
       "14  20000      str5  11604.247570\n",
       "15  20000     str15  12010.078430\n",
       "16  25000   integer  16312.851191\n",
       "17  25000   decimal  15712.647915\n",
       "18  25000      str5  18257.083893\n",
       "19  25000     str15  18620.807648"
      ]
     },
     "execution_count": 37,
     "metadata": {},
     "output_type": "execute_result"
    }
   ],
   "source": [
    "#plain text data dump of the test results\n",
    "test_data"
   ]
  },
  {
   "cell_type": "code",
   "execution_count": 38,
   "metadata": {},
   "outputs": [
    {
     "data": {
      "image/png": "[encoded data removed]",
      "text/plain": [
       "<Figure size 576x576 with 1 Axes>"
      ]
     },
     "metadata": {
      "needs_background": "light"
     },
     "output_type": "display_data"
    }
   ],
   "source": [
    "#plot the binary and linear search results against the data length\n",
    "plt.figure(figsize=(8,8))\n",
    "\n",
    "for test_data_type in test_data_types:\n",
    "    plt.plot(\n",
    "        test_data[test_data.data_type==test_data_type].length, \n",
    "        test_data[test_data.data_type==test_data_type].sort_ms, label = test_data_type)\n",
    "\n",
    "plt.legend()\n",
    "plt.xlabel('data size')\n",
    "plt.ylabel('runtime (msec)')\n",
    "plt.title('selection sort runtime (msec)')\n",
    "plt.show()"
   ]
  },
  {
   "cell_type": "code",
   "execution_count": null,
   "metadata": {},
   "outputs": [],
   "source": []
  }
 ],
 "metadata": {
  "kernelspec": {
   "display_name": "Python 3",
   "language": "python",
   "name": "python3"
  },
  "language_info": {
   "codemirror_mode": {
    "name": "ipython",
    "version": 3
   },
   "file_extension": ".py",
   "mimetype": "text/x-python",
   "name": "python",
   "nbconvert_exporter": "python",
   "pygments_lexer": "ipython3",
   "version": "3.6.6"
  }
 },
 "nbformat": 4,
 "nbformat_minor": 2
}
