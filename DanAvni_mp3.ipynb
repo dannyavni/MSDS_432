{
 "cells": [
  {
   "cell_type": "markdown",
   "metadata": {},
   "source": [
    "## MSDS 432 - Programming Assignment #3 Dan Avni"
   ]
  },
  {
   "cell_type": "markdown",
   "metadata": {},
   "source": [
    "## Executive Summary\n",
    "\n",
    "The.\n"
   ]
  },
  {
   "cell_type": "markdown",
   "metadata": {},
   "source": [
    "## Method and Conclusions\n",
    "\n",
    "To demonstrate.\n",
    "\n",
    "<img src=\"./runtime1.png\">"
   ]
  },
  {
   "cell_type": "markdown",
   "metadata": {},
   "source": [
    "## Implementation"
   ]
  },
  {
   "cell_type": "code",
   "execution_count": 18,
   "metadata": {},
   "outputs": [],
   "source": [
    "#import required packages\n",
    "import numpy as np\n",
    "import matplotlib.pyplot as plt\n",
    "import pandas as pd\n",
    "import time\n",
    "import random"
   ]
  },
  {
   "cell_type": "code",
   "execution_count": 23,
   "metadata": {},
   "outputs": [],
   "source": [
    "# recursuve facorial implemntation adapted retrieved from:\n",
    "# https://github.com/egonSchiele/grokking_algorithms/blob/master/02_selection_sort/python/01_selection_sort.py\n",
    "\n",
    "def recursive_fact(x):\n",
    "  if x == 1:\n",
    "    return 1\n",
    "  else:\n",
    "    return x * recusive_fact(x-1)"
   ]
  },
  {
   "cell_type": "code",
   "execution_count": 11,
   "metadata": {},
   "outputs": [],
   "source": [
    "# iterative factorial solution u\n",
    "\n",
    "def iterative_fact(x):\n",
    "  fact = 1\n",
    "  for i in range(1,x+1):\n",
    "    fact = fact * i\n",
    "  return fact"
   ]
  },
  {
   "cell_type": "code",
   "execution_count": 85,
   "metadata": {},
   "outputs": [
    {
     "name": "stdout",
     "output_type": "stream",
     "text": [
      "5040\n",
      "5040\n",
      "True\n"
     ]
    }
   ],
   "source": [
    "#unit test validation of the factorial implementation\n",
    "\n",
    "print(recursive_fact(7))\n",
    "print(iterative_fact(7))\n",
    "print(recursive_fact(7)==iterative_fact(7))"
   ]
  },
  {
   "cell_type": "code",
   "execution_count": 86,
   "metadata": {},
   "outputs": [],
   "source": [
    "#utility function to generate and array of uniformly distributed data array with persistent seed across calls \n",
    "def generate_random_array(item_count, low, high):\n",
    "    np.random.seed(666)\n",
    "    \n",
    "    return np.random.randint(low, high, item_count).tolist()"
   ]
  },
  {
   "cell_type": "code",
   "execution_count": 122,
   "metadata": {},
   "outputs": [],
   "source": [
    "#prepare an array of all the desired data lengths\n",
    "random_ints = np.sort(generate_random_array(10, 100, 500)).tolist()\n",
    "\n",
    "#prepare an empty data frame with the desired column names\n",
    "test_data_col_names = ['number', 'factorial', 'iterative_ms', 'recursive_ms']\n",
    "test_data = pd.DataFrame(columns = test_data_col_names) "
   ]
  },
  {
   "cell_type": "code",
   "execution_count": 123,
   "metadata": {},
   "outputs": [],
   "source": [
    "#iterate over the possible lens, create test data for each length, and compture runtime length in milliseconds\n",
    "for random_int in random_ints:\n",
    "    start   = time.time()\n",
    "    fact1   = iterative_fact(random_int)\n",
    "    iterative_ms = (time.time() - start) * 1000\n",
    "\n",
    "    start   = time.time()\n",
    "    fact2    = recursive_fact(random_int)\n",
    "    recursive_ms = (time.time() - start) * 1000\n",
    "    \n",
    "    if fact1 != fact2:\n",
    "        raise Exception('This should never have happened. The two methods should concur!')\n",
    "    \n",
    "    #insert the results into a new dataframe record \n",
    "    #need to cast the factorial into a string to prevent a pandas float or int overflow\n",
    "    test_data.loc[len(test_data)] = [random_int, str(fact1), iterative_ms, recursive_ms]"
   ]
  },
  {
   "cell_type": "markdown",
   "metadata": {},
   "source": [
    "Below is a tabular representation of the test data. It is useful as the charts fail to show the minute fluctuations in the binary search performance. To get a true read of the binary search performance we will need to run multiple tests and average the results, as well as increase the size. We should also try to execute the code in a virtualized environment where the CPU is under competition from other processes."
   ]
  },
  {
   "cell_type": "code",
   "execution_count": 124,
   "metadata": {},
   "outputs": [
    {
     "data": {
      "text/html": [
       "<div>\n",
       "<style scoped>\n",
       "    .dataframe tbody tr th:only-of-type {\n",
       "        vertical-align: middle;\n",
       "    }\n",
       "\n",
       "    .dataframe tbody tr th {\n",
       "        vertical-align: top;\n",
       "    }\n",
       "\n",
       "    .dataframe thead th {\n",
       "        text-align: right;\n",
       "    }\n",
       "</style>\n",
       "<table border=\"1\" class=\"dataframe\">\n",
       "  <thead>\n",
       "    <tr style=\"text-align: right;\">\n",
       "      <th></th>\n",
       "      <th>number</th>\n",
       "      <th>factorial</th>\n",
       "      <th>iterative_ms</th>\n",
       "      <th>recursive_ms</th>\n",
       "    </tr>\n",
       "  </thead>\n",
       "  <tbody>\n",
       "    <tr>\n",
       "      <th>0</th>\n",
       "      <td>151</td>\n",
       "      <td>8627209774233240431623188626544191544816225903...</td>\n",
       "      <td>0.021935</td>\n",
       "      <td>0.056982</td>\n",
       "    </tr>\n",
       "    <tr>\n",
       "      <th>1</th>\n",
       "      <td>160</td>\n",
       "      <td>4714723635992061322406943211761943779511926230...</td>\n",
       "      <td>0.024319</td>\n",
       "      <td>0.048161</td>\n",
       "    </tr>\n",
       "    <tr>\n",
       "      <th>2</th>\n",
       "      <td>170</td>\n",
       "      <td>7257415615307998967396728211129263114716991681...</td>\n",
       "      <td>0.038624</td>\n",
       "      <td>0.082016</td>\n",
       "    </tr>\n",
       "    <tr>\n",
       "      <th>3</th>\n",
       "      <td>191</td>\n",
       "      <td>1848941630973752588819559184291528260234868800...</td>\n",
       "      <td>0.040531</td>\n",
       "      <td>0.209808</td>\n",
       "    </tr>\n",
       "    <tr>\n",
       "      <th>4</th>\n",
       "      <td>256</td>\n",
       "      <td>8578177753428426541190822716812326251577815202...</td>\n",
       "      <td>0.061035</td>\n",
       "      <td>0.150442</td>\n",
       "    </tr>\n",
       "    <tr>\n",
       "      <th>5</th>\n",
       "      <td>322</td>\n",
       "      <td>2187246741752763751432688247998659781970331487...</td>\n",
       "      <td>0.062466</td>\n",
       "      <td>0.448704</td>\n",
       "    </tr>\n",
       "    <tr>\n",
       "      <th>6</th>\n",
       "      <td>323</td>\n",
       "      <td>7064806975861426917127583041035671095764170704...</td>\n",
       "      <td>0.154018</td>\n",
       "      <td>0.303745</td>\n",
       "    </tr>\n",
       "    <tr>\n",
       "      <th>7</th>\n",
       "      <td>336</td>\n",
       "      <td>3885246413919554674957188781709166666213058911...</td>\n",
       "      <td>0.058174</td>\n",
       "      <td>0.246286</td>\n",
       "    </tr>\n",
       "    <tr>\n",
       "      <th>8</th>\n",
       "      <td>418</td>\n",
       "      <td>6704355013599149103015045905466432364040846480...</td>\n",
       "      <td>0.093460</td>\n",
       "      <td>0.263453</td>\n",
       "    </tr>\n",
       "    <tr>\n",
       "      <th>9</th>\n",
       "      <td>486</td>\n",
       "      <td>2402100606040589897197638086812797478301774839...</td>\n",
       "      <td>0.078678</td>\n",
       "      <td>0.475645</td>\n",
       "    </tr>\n",
       "  </tbody>\n",
       "</table>\n",
       "</div>"
      ],
      "text/plain": [
       "  number                                          factorial  iterative_ms  \\\n",
       "0    151  8627209774233240431623188626544191544816225903...      0.021935   \n",
       "1    160  4714723635992061322406943211761943779511926230...      0.024319   \n",
       "2    170  7257415615307998967396728211129263114716991681...      0.038624   \n",
       "3    191  1848941630973752588819559184291528260234868800...      0.040531   \n",
       "4    256  8578177753428426541190822716812326251577815202...      0.061035   \n",
       "5    322  2187246741752763751432688247998659781970331487...      0.062466   \n",
       "6    323  7064806975861426917127583041035671095764170704...      0.154018   \n",
       "7    336  3885246413919554674957188781709166666213058911...      0.058174   \n",
       "8    418  6704355013599149103015045905466432364040846480...      0.093460   \n",
       "9    486  2402100606040589897197638086812797478301774839...      0.078678   \n",
       "\n",
       "   recursive_ms  \n",
       "0      0.056982  \n",
       "1      0.048161  \n",
       "2      0.082016  \n",
       "3      0.209808  \n",
       "4      0.150442  \n",
       "5      0.448704  \n",
       "6      0.303745  \n",
       "7      0.246286  \n",
       "8      0.263453  \n",
       "9      0.475645  "
      ]
     },
     "execution_count": 124,
     "metadata": {},
     "output_type": "execute_result"
    }
   ],
   "source": [
    "#plain text data dump of the test results\n",
    "test_data"
   ]
  },
  {
   "cell_type": "code",
   "execution_count": 126,
   "metadata": {},
   "outputs": [
    {
     "data": {
      "image/png": "[encoded data removed]",
      "text/plain": [
       "<Figure size 576x576 with 1 Axes>"
      ]
     },
     "metadata": {
      "needs_background": "light"
     },
     "output_type": "display_data"
    }
   ],
   "source": [
    "#plot the binary and linear search results against the data length\n",
    "plt.figure(figsize=(8,8))\n",
    "\n",
    "plt.plot(test_data.number, test_data.iterative_ms)\n",
    "plt.plot(test_data.number, test_data.recursive_ms)\n",
    "\n",
    "plt.legend()\n",
    "plt.xlabel('data size')\n",
    "plt.ylabel('runtime (msec)')\n",
    "plt.title('recursive versus iterative factorial runtime (msec)')\n",
    "plt.show()"
   ]
  },
  {
   "cell_type": "markdown",
   "metadata": {},
   "source": [
    "## Extra Credit"
   ]
  },
  {
   "cell_type": "markdown",
   "metadata": {},
   "source": [
    "A GitHub reposotory contaning commits for all the maerials in the assignemt was shared and made available here:\n",
    "\n",
    "https://github.com/dannyavni/MSDS_432"
   ]
  }
 ],
 "metadata": {
  "kernelspec": {
   "display_name": "Python 3",
   "language": "python",
   "name": "python3"
  },
  "language_info": {
   "codemirror_mode": {
    "name": "ipython",
    "version": 3
   },
   "file_extension": ".py",
   "mimetype": "text/x-python",
   "name": "python",
   "nbconvert_exporter": "python",
   "pygments_lexer": "ipython3",
   "version": "3.7.1"
  }
 },
 "nbformat": 4,
 "nbformat_minor": 2
}
