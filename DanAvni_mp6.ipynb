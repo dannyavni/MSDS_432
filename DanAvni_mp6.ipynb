{
 "cells": [
  {
   "cell_type": "markdown",
   "metadata": {},
   "source": [
    "## MSDS 432 - Programming Assignment #6 Dan Avni"
   ]
  },
  {
   "cell_type": "markdown",
   "metadata": {},
   "source": [
    "## Executive Summary\n",
    "\n",
    "The purpose of this programming assignment is to provide a \"real-world\" demonstration of the runtime performance of the breadth-first-search (BFS) algorithm. BFS is a long-standing key algorithm in the study of graph and tree search and traversal, with applications ranging from network community detection to shortest distance search. \n",
    "\n",
    "BFS search strategy is to traverse the tree or graph level by level, by queuing nodes in a first-in-first-out data structure.  \n",
    "\n",
    "BFS worst-case runtime performance in the $Big O$ notation is $O(|V| + |E|)$ with $|V|$ representing the number of vertices in the graph and $|E|$ representing the number of edges. \n",
    "\n",
    "We demonstrate that BFS runtime performance increases the deeper the searched item resides in the tree. Hence, for use cases where the deeper nested items are commonly searched, an alternative method such as depth-first-search (DFS) should be considered.\n"
   ]
  },
  {
   "cell_type": "markdown",
   "metadata": {},
   "source": [
    "## Method and Conclusions\n",
    "\n",
    "To demonstrate the BFS performance relative to the tree depth we constructed a five-level deep tree. The first level has five nodes, each connected to five child nodes. Each consecutive level continues this structure. The resulting tree spans 3905 nodes in total, with each level respectively including 5, 25, 125, 625, 3125 nodes.\n",
    "\n",
    "We used the following naming convention when naming the nodes:\n",
    "\n",
    "{Level N}{Parent N}{Leven N+1}{Child N}.\n",
    "\n",
    "Thus, a sample node on the third level could be named: 122135, indicating the entire node's lineage: 12 -> 1221 -> 122135.\n",
    "\n",
    "The below image depicts the first three levels of our graph with the BFS traversal order as overlay:\n",
    "\n",
    "<img src=\"./tree.png\" width=\"75%\" height=\"75%\">\n",
    "\n",
    "We conduct a BFS search against each level, performing as many searches as the level depth.\n",
    "\n",
    "The below chart shows the mean BFS results, clearly illustrating the performance degradation corresponding to a deeper level search.\n",
    "\n",
    "<img src=\"./runtime5.png\">"
   ]
  },
  {
   "cell_type": "markdown",
   "metadata": {},
   "source": [
    "## Implementation"
   ]
  },
  {
   "cell_type": "code",
   "execution_count": 16,
   "metadata": {},
   "outputs": [],
   "source": [
    "#import required packages\n",
    "from collections import deque\n",
    "import pandas as pd\n",
    "import time\n",
    "import matplotlib.pyplot as plt"
   ]
  },
  {
   "cell_type": "code",
   "execution_count": 17,
   "metadata": {},
   "outputs": [],
   "source": [
    "#breadth-first-search (bfs) implementation adapted and heavily modified from: \n",
    "#https://github.com/egonSchiele/grokking_algorithms/\n",
    "\n",
    "def breadth_first_search(tree, item):\n",
    "    search_queue = deque(['__root__'])\n",
    "    # This set is how you keep track of which items you've searched before.\n",
    "    searched = set()\n",
    "    while search_queue:\n",
    "        cur_item = search_queue.popleft()\n",
    "        # Only search this item if you haven't already searched them.\n",
    "        if cur_item not in searched:\n",
    "            if cur_item == item:\n",
    "                return True\n",
    "            else:\n",
    "                for child in tree[cur_item]:\n",
    "                    search_queue.append(child)\n",
    "                # Marks this item as searched\n",
    "                searched.add(cur_item)\n",
    "    return False"
   ]
  },
  {
   "cell_type": "code",
   "execution_count": 18,
   "metadata": {},
   "outputs": [
    {
     "data": {
      "text/plain": [
       "True"
      ]
     },
     "execution_count": 18,
     "metadata": {},
     "output_type": "execute_result"
    }
   ],
   "source": [
    "#unit test\n",
    "tree = {}\n",
    "tree['__root__'] = [\"danny\"]\n",
    "tree[\"danny\"] = [\"alice\", \"bob\", \"claire\"]\n",
    "tree[\"bob\"] = [\"anuj\", \"peggy\"]\n",
    "tree[\"alice\"] = [\"peggy\"]\n",
    "tree[\"claire\"] = [\"thom\", \"jonny\"]\n",
    "tree[\"anuj\"] = []\n",
    "tree[\"peggy\"] = []\n",
    "tree[\"thom\"] = []\n",
    "tree[\"jonny\"] = []\n",
    "\n",
    "breadth_first_search(tree, \"peggy\")"
   ]
  },
  {
   "cell_type": "code",
   "execution_count": 19,
   "metadata": {},
   "outputs": [],
   "source": [
    "#prepare data using a recursive function stopping at the fifth level\n",
    "def add_tree_children(tree, item, count, level):\n",
    "    if level == 5:\n",
    "        tree[item] = []\n",
    "        return\n",
    "    \n",
    "    tree[item] = []\n",
    "    \n",
    "    for child in range(1, count+1):\n",
    "        child_item = '{}{}{}'.format(item if item != \"__root__\" else \"\", level+1, child)\n",
    "        tree[item].append(child_item)\n",
    "        add_tree_children(tree, child_item, count, level+1)\n",
    "\n",
    "tree = {}\n",
    "\n",
    "add_tree_children(tree, '__root__', 5, 0)"
   ]
  },
  {
   "cell_type": "code",
   "execution_count": 20,
   "metadata": {},
   "outputs": [],
   "source": [
    "search_levels = [1, 2, 3, 4, 5]\n",
    "\n",
    "test_results_col_names = ['search_level', 'search_item', 'search_ms']\n",
    "test_results           = pd.DataFrame(columns = test_results_col_names) \n",
    "\n",
    "search_prefix = ['1{}', '112{}', '11213{}', '1121314{}','112131415{}']\n",
    "\n",
    "for level in range(1,6):\n",
    "    for count in range(1,level+1):\n",
    "            search_item = search_prefix[level-1].format(count)\n",
    "            start   = time.time()\n",
    "            found = breadth_first_search(tree, search_item)\n",
    "            if found == False:\n",
    "                raise Exception(\"item not found\")\n",
    "            search_ms = (time.time() - start) * 1000\n",
    "            #insert the results into a new dataframe record \n",
    "            test_results.loc[len(test_results)] = [level, search_item, search_ms]"
   ]
  },
  {
   "cell_type": "code",
   "execution_count": 21,
   "metadata": {},
   "outputs": [
    {
     "data": {
      "text/html": [
       "<div>\n",
       "<style scoped>\n",
       "    .dataframe tbody tr th:only-of-type {\n",
       "        vertical-align: middle;\n",
       "    }\n",
       "\n",
       "    .dataframe tbody tr th {\n",
       "        vertical-align: top;\n",
       "    }\n",
       "\n",
       "    .dataframe thead th {\n",
       "        text-align: right;\n",
       "    }\n",
       "</style>\n",
       "<table border=\"1\" class=\"dataframe\">\n",
       "  <thead>\n",
       "    <tr style=\"text-align: right;\">\n",
       "      <th></th>\n",
       "      <th>search_level</th>\n",
       "      <th>search_item</th>\n",
       "      <th>search_ms</th>\n",
       "    </tr>\n",
       "  </thead>\n",
       "  <tbody>\n",
       "    <tr>\n",
       "      <th>0</th>\n",
       "      <td>1</td>\n",
       "      <td>11</td>\n",
       "      <td>0.008106</td>\n",
       "    </tr>\n",
       "    <tr>\n",
       "      <th>1</th>\n",
       "      <td>2</td>\n",
       "      <td>1121</td>\n",
       "      <td>0.021935</td>\n",
       "    </tr>\n",
       "    <tr>\n",
       "      <th>2</th>\n",
       "      <td>2</td>\n",
       "      <td>1122</td>\n",
       "      <td>0.019073</td>\n",
       "    </tr>\n",
       "    <tr>\n",
       "      <th>3</th>\n",
       "      <td>3</td>\n",
       "      <td>112131</td>\n",
       "      <td>0.041246</td>\n",
       "    </tr>\n",
       "    <tr>\n",
       "      <th>4</th>\n",
       "      <td>3</td>\n",
       "      <td>112132</td>\n",
       "      <td>0.087023</td>\n",
       "    </tr>\n",
       "    <tr>\n",
       "      <th>5</th>\n",
       "      <td>3</td>\n",
       "      <td>112133</td>\n",
       "      <td>0.074863</td>\n",
       "    </tr>\n",
       "    <tr>\n",
       "      <th>6</th>\n",
       "      <td>4</td>\n",
       "      <td>11213141</td>\n",
       "      <td>0.475883</td>\n",
       "    </tr>\n",
       "    <tr>\n",
       "      <th>7</th>\n",
       "      <td>4</td>\n",
       "      <td>11213142</td>\n",
       "      <td>0.199795</td>\n",
       "    </tr>\n",
       "    <tr>\n",
       "      <th>8</th>\n",
       "      <td>4</td>\n",
       "      <td>11213143</td>\n",
       "      <td>0.173092</td>\n",
       "    </tr>\n",
       "    <tr>\n",
       "      <th>9</th>\n",
       "      <td>4</td>\n",
       "      <td>11213144</td>\n",
       "      <td>0.166893</td>\n",
       "    </tr>\n",
       "    <tr>\n",
       "      <th>10</th>\n",
       "      <td>5</td>\n",
       "      <td>1121314151</td>\n",
       "      <td>0.685215</td>\n",
       "    </tr>\n",
       "    <tr>\n",
       "      <th>11</th>\n",
       "      <td>5</td>\n",
       "      <td>1121314152</td>\n",
       "      <td>0.637054</td>\n",
       "    </tr>\n",
       "    <tr>\n",
       "      <th>12</th>\n",
       "      <td>5</td>\n",
       "      <td>1121314153</td>\n",
       "      <td>0.705957</td>\n",
       "    </tr>\n",
       "    <tr>\n",
       "      <th>13</th>\n",
       "      <td>5</td>\n",
       "      <td>1121314154</td>\n",
       "      <td>0.715017</td>\n",
       "    </tr>\n",
       "    <tr>\n",
       "      <th>14</th>\n",
       "      <td>5</td>\n",
       "      <td>1121314155</td>\n",
       "      <td>0.632048</td>\n",
       "    </tr>\n",
       "  </tbody>\n",
       "</table>\n",
       "</div>"
      ],
      "text/plain": [
       "   search_level search_item  search_ms\n",
       "0             1          11   0.008106\n",
       "1             2        1121   0.021935\n",
       "2             2        1122   0.019073\n",
       "3             3      112131   0.041246\n",
       "4             3      112132   0.087023\n",
       "5             3      112133   0.074863\n",
       "6             4    11213141   0.475883\n",
       "7             4    11213142   0.199795\n",
       "8             4    11213143   0.173092\n",
       "9             4    11213144   0.166893\n",
       "10            5  1121314151   0.685215\n",
       "11            5  1121314152   0.637054\n",
       "12            5  1121314153   0.705957\n",
       "13            5  1121314154   0.715017\n",
       "14            5  1121314155   0.632048"
      ]
     },
     "execution_count": 21,
     "metadata": {},
     "output_type": "execute_result"
    }
   ],
   "source": [
    "test_results"
   ]
  },
  {
   "cell_type": "code",
   "execution_count": 22,
   "metadata": {},
   "outputs": [],
   "source": [
    "test_results_mean = test_results.groupby(['search_level'], as_index=False)['search_ms'].mean()"
   ]
  },
  {
   "cell_type": "markdown",
   "metadata": {},
   "source": [
    "Below is a tabular representation of the test data showing the increase in mean search time as the deeper levels are searched."
   ]
  },
  {
   "cell_type": "code",
   "execution_count": 23,
   "metadata": {},
   "outputs": [
    {
     "data": {
      "text/html": [
       "<div>\n",
       "<style scoped>\n",
       "    .dataframe tbody tr th:only-of-type {\n",
       "        vertical-align: middle;\n",
       "    }\n",
       "\n",
       "    .dataframe tbody tr th {\n",
       "        vertical-align: top;\n",
       "    }\n",
       "\n",
       "    .dataframe thead th {\n",
       "        text-align: right;\n",
       "    }\n",
       "</style>\n",
       "<table border=\"1\" class=\"dataframe\">\n",
       "  <thead>\n",
       "    <tr style=\"text-align: right;\">\n",
       "      <th></th>\n",
       "      <th>search_level</th>\n",
       "      <th>search_ms</th>\n",
       "    </tr>\n",
       "  </thead>\n",
       "  <tbody>\n",
       "    <tr>\n",
       "      <th>0</th>\n",
       "      <td>1</td>\n",
       "      <td>0.008106</td>\n",
       "    </tr>\n",
       "    <tr>\n",
       "      <th>1</th>\n",
       "      <td>2</td>\n",
       "      <td>0.020504</td>\n",
       "    </tr>\n",
       "    <tr>\n",
       "      <th>2</th>\n",
       "      <td>3</td>\n",
       "      <td>0.067711</td>\n",
       "    </tr>\n",
       "    <tr>\n",
       "      <th>3</th>\n",
       "      <td>4</td>\n",
       "      <td>0.253916</td>\n",
       "    </tr>\n",
       "    <tr>\n",
       "      <th>4</th>\n",
       "      <td>5</td>\n",
       "      <td>0.675058</td>\n",
       "    </tr>\n",
       "  </tbody>\n",
       "</table>\n",
       "</div>"
      ],
      "text/plain": [
       "   search_level  search_ms\n",
       "0             1   0.008106\n",
       "1             2   0.020504\n",
       "2             3   0.067711\n",
       "3             4   0.253916\n",
       "4             5   0.675058"
      ]
     },
     "execution_count": 23,
     "metadata": {},
     "output_type": "execute_result"
    }
   ],
   "source": [
    "test_results_mean"
   ]
  },
  {
   "cell_type": "code",
   "execution_count": 24,
   "metadata": {},
   "outputs": [
    {
     "data": {
      "image/png": "[encoded data removed]",
      "text/plain": [
       "<matplotlib.figure.Figure at 0x10fa58f60>"
      ]
     },
     "metadata": {},
     "output_type": "display_data"
    }
   ],
   "source": [
    "#prdoduce a bar plot of the mean search time by level\n",
    "plt.figure(figsize=(8,4))\n",
    "plt.barh(test_results_mean.search_level, test_results_mean.search_ms, height=0.3, \n",
    "         color=['red', 'green', 'blue', 'cyan','orange'])\n",
    "plt.ylabel('search level')\n",
    "plt.xlabel('runtime (msec)')\n",
    "plt.title('mean breadth-first-search runtime by level (msec)')\n",
    "plt.show()"
   ]
  },
  {
   "cell_type": "markdown",
   "metadata": {},
   "source": [
    "## Extra work \n",
    "\n",
    "We traverse the tree to demonstrate the search order and visualize the results using the pydotplus package and GraphViz, a graph visualization package using the DOT langauge to construct graphs and tree.\n",
    "\n",
    "We use a 3-level tree to produce a human-friendly plot."
   ]
  },
  {
   "cell_type": "code",
   "execution_count": 25,
   "metadata": {},
   "outputs": [],
   "source": [
    "import pydotplus as pdp\n",
    "from IPython.display import Image "
   ]
  },
  {
   "cell_type": "code",
   "execution_count": 26,
   "metadata": {},
   "outputs": [],
   "source": [
    "#prepare data\n",
    "def add_tree_children(tree, item, count, level):\n",
    "    if level == 2:\n",
    "        tree[item] = []\n",
    "        return\n",
    "    \n",
    "    tree[item] = []\n",
    "    \n",
    "    for child in range(1, count+1):\n",
    "        child_item = '{}{}{}'.format(item if item != \"__root__\" else \"\", level+1, child)\n",
    "        tree[item].append(child_item)\n",
    "        add_tree_children(tree, child_item, count, level+1)\n",
    "\n",
    "tree = {}\n",
    "\n",
    "add_tree_children(tree, '__root__', 3, 0)"
   ]
  },
  {
   "cell_type": "code",
   "execution_count": 27,
   "metadata": {},
   "outputs": [],
   "source": [
    "def breadth_first_traverse(tree):\n",
    "    step = 0\n",
    "    search_queue = deque(['__root__'])\n",
    "    # This set is how you keep track of which items you've searched before.\n",
    "    searched = set()\n",
    "    output   = \"\"\n",
    "    while search_queue:\n",
    "        cur_item = search_queue.popleft()\n",
    "        # Only search this item if you haven't already searched them.\n",
    "        if cur_item not in searched:\n",
    "            output += \\\n",
    "            \"{} [label=\\\"{}\\\", xlabel=\\\"{}\\\"];\".format(cur_item, cur_item, step)\n",
    "            for child in tree[cur_item]:\n",
    "                output += \"{}->{};\".format(cur_item, child)\n",
    "                search_queue.append(child)\n",
    "            # Marks this item as searched\n",
    "            step += 1\n",
    "            searched.add(cur_item)\n",
    "    return \"digraph { \" + output + \"}\";"
   ]
  },
  {
   "cell_type": "code",
   "execution_count": 28,
   "metadata": {},
   "outputs": [],
   "source": [
    "tree_as_dot = breadth_first_traverse(tree)"
   ]
  },
  {
   "cell_type": "code",
   "execution_count": 29,
   "metadata": {},
   "outputs": [
    {
     "data": {
      "image/png": "[encoded data removed]",
      "text/plain": [
       "<IPython.core.display.Image object>"
      ]
     },
     "execution_count": 29,
     "metadata": {},
     "output_type": "execute_result"
    }
   ],
   "source": [
    "graph = pdp.graph_from_dot_data(tree_as_dot)\n",
    " \n",
    "Image(graph.create_png())"
   ]
  }
 ],
 "metadata": {
  "kernelspec": {
   "display_name": "Python 3",
   "language": "python",
   "name": "python3"
  },
  "language_info": {
   "codemirror_mode": {
    "name": "ipython",
    "version": 3
   },
   "file_extension": ".py",
   "mimetype": "text/x-python",
   "name": "python",
   "nbconvert_exporter": "python",
   "pygments_lexer": "ipython3",
   "version": "3.6.4"
  }
 },
 "nbformat": 4,
 "nbformat_minor": 2
}
