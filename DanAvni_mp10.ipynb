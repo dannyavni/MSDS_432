{
 "cells": [
  {
   "cell_type": "markdown",
   "metadata": {},
   "source": [
    "## MSDS 432 - Programming Assignment #10 Dan Avni"
   ]
  },
  {
   "cell_type": "markdown",
   "metadata": {},
   "source": [
    "The purpose of this programming assignment is to implement a *KNN*, or K-Nearest-Neighbours classifier and apply it to the classic Iris flower dataset. \n",
    "\n",
    "KNN is a relatively simple, non-parametric classifier or regression algorithm. Despite its simplicity, it often provides good performance and requires little training or hyper-tuning. It is based on finding the nearest K neighbors to each data point and using the most common class of in the set, or the average response value to classify or estimate the response for the target respectively. \n",
    "\n",
    "A KNN classifier can either take the most common or straight mean of the K neighbors or weight the neighbors by their distance to the estimated point. Various distance function can be used, in this example we will stick to the Euclidian distance: $\\sqrt{\\sum_{i=1}^n(q_i-p_i)^2}$. The root of the squared sum of the coordinates in an n-dimensional space.\n",
    "\n",
    "We have implemented a KNN classifier using a min-priority-queue approach, adding the Iris observation to queue sorted by the distance. While this may work well for such as small dataset, a more robust implementation of the algorithm needs to use a more refined approach of indexing the observations to allow faster retrieval of the K nearest neighbors.\n",
    "\n",
    "The complexity of our solution using the Big-O notation, with $d$ as the number of dimensions, and $n$ as the number of obervations is:\n",
    "\n",
    "$O(nd + n + klog(n))$\n",
    "\n",
    "The three components contributing to the complexity are initializing the distance $nd$, inserting the observation to the priority queue $n$, and retrieving the k points from the queue $klog(n)$.\n",
    "\n",
    "We executed our KNN classifier using several values of K and examined the accuracy and runtime. The results are shown in the table below. The training accuracy was near perfect as long as K was kept sufficiently low, below the Iris cluster sizes.\n",
    "\n",
    "\n",
    "|   K |   accuracy |       f1 |   runtime_ms |\n",
    "|----:|-----------:|---------:|-------------:|\n",
    "|   1 |   0.96     | 0.96     |      39.1974 |\n",
    "|   3 |   0.96     | 0.96     |      27.8184 |\n",
    "|   5 |   0.966667 | 0.966663 |      30.3292 |\n",
    "|   7 |   0.966667 | 0.966637 |      28.7917 |\n",
    "|  10 |   0.953333 | 0.953329 |      27.4181 |\n",
    "|  25 |   0.966667 | 0.966663 |      31.1141 |\n",
    "|  50 |   0.946667 | 0.946581 |      38.6612 |\n",
    "|  75 |   0.88     | 0.879164 |      44.0764 |\n",
    "| 100 |   0.526667 | 0.479904 |      51.4123 |"
   ]
  },
  {
   "cell_type": "markdown",
   "metadata": {},
   "source": [
    "### Optimal K for classification accuracy (extra credit 1)"
   ]
  },
  {
   "cell_type": "markdown",
   "metadata": {},
   "source": [
    "Normally, we would not tune a model on an entire training set as it is likely to result in overfitting. Nevertheless, based on the above table and the plot below, we recommend a K value of 7 to achieve optimal accuracy and reduce classification error for the Iris training dataset.\n",
    "\n",
    "Both the accuracy and the $F1$ score that balances precision and recall concur. \n",
    "\n",
    "<img width=\"50%\" src=\"https://raw.githubusercontent.com/dannyavni/MSDS_432/master/knn.png\"/>"
   ]
  },
  {
   "cell_type": "markdown",
   "metadata": {},
   "source": [
    "### Differences from SciKit Learn KNN (extra credit 2)"
   ]
  },
  {
   "cell_type": "markdown",
   "metadata": {},
   "source": [
    "There are several key differences between our simple implementation and the more complete and robust SciKit Lean KNN implementation.\n",
    "\n",
    "1. SciKit KNN automatically selected an efficient data structure to store the observation for efficient retrieval, leveraging indexes like KDTree or BallTree for efficient space-search.\n",
    "\n",
    "2. SciKit KNN supports multiple methods to assign a class or predicted value. While supporting the majority class or simple mean,  it allows using a distance weighted approach\n",
    "\n",
    "3. SciKit KNN provides an additional approach: selecting all the neighbors within a fixed radius"
   ]
  },
  {
   "cell_type": "code",
   "execution_count": 1,
   "metadata": {},
   "outputs": [],
   "source": [
    "#import required packages\n",
    "import numpy as np\n",
    "import pandas as pd\n",
    "import time\n",
    "from sklearn.datasets import load_iris\n",
    "from sklearn.metrics import precision_score\n",
    "from sklearn.metrics import accuracy_score\n",
    "from sklearn.metrics import f1_score\n",
    "from sklearn.metrics import average_precision_score\n",
    "from scipy.spatial import distance\n",
    "from collections import Counter\n",
    "import matplotlib.pyplot as plt\n",
    "import heapq as hq\n",
    "from tabulate import tabulate"
   ]
  },
  {
   "cell_type": "code",
   "execution_count": 2,
   "metadata": {},
   "outputs": [],
   "source": [
    "iris = load_iris()\n",
    "features = iris['data']\n",
    "targets  = iris['target']\n",
    "target_names = iris['target_names']"
   ]
  },
  {
   "cell_type": "code",
   "execution_count": 3,
   "metadata": {},
   "outputs": [],
   "source": [
    "def knn_find_k(feature, targets, dist, k):\n",
    "    h = []\n",
    "    [hq.heappush(h, (dist[i], targets[i])) for i in range(len(dist))]\n",
    "    #discard self\n",
    "    hq.heappop(h) \n",
    "    return([hq.heappop(h) for i in range(k)])\n",
    "\n",
    "def knn_append(cnt, dist, cls):\n",
    "    cnt[cls] += 1\n",
    "\n",
    "def knn_class(klist):\n",
    "    cnt = Counter()\n",
    "    [knn_append(cnt, klist[i][0], klist[i][1]) for i in range(len(klist))]\n",
    "    return(cnt.most_common(1)[0][0])\n",
    "\n",
    "def knn_classify(features, targets, k):\n",
    "    dist = distance.cdist(features, features, 'euclidean')\n",
    "    cls = []\n",
    "    [cls.append(knn_class(knn_find_k(features[i], targets, dist[i], k))) for i in range(len(features))]\n",
    "    return(cls)"
   ]
  },
  {
   "cell_type": "code",
   "execution_count": 4,
   "metadata": {},
   "outputs": [],
   "source": [
    "test_results_col_names = ['k', 'accuracy', 'f1','runtime_ms']\n",
    "test_results           = pd.DataFrame(columns = test_results_col_names) "
   ]
  },
  {
   "cell_type": "code",
   "execution_count": 5,
   "metadata": {},
   "outputs": [],
   "source": [
    "for k in [1,3,5,7,10,25,50,75,100]:\n",
    "    start   = time.time()\n",
    "    cls = knn_classify(features, targets, k)\n",
    "    runtime_ms = ((time.time() - start) * 1000)\n",
    "    test_results.loc[len(test_results)] = [k, \n",
    "                                           accuracy_score(targets, cls),\n",
    "                                           f1_score(targets, cls, average = \"weighted\"),\n",
    "                                           runtime_ms]"
   ]
  },
  {
   "cell_type": "code",
   "execution_count": 6,
   "metadata": {
    "scrolled": true
   },
   "outputs": [
    {
     "data": {
      "text/html": [
       "<div>\n",
       "<style scoped>\n",
       "    .dataframe tbody tr th:only-of-type {\n",
       "        vertical-align: middle;\n",
       "    }\n",
       "\n",
       "    .dataframe tbody tr th {\n",
       "        vertical-align: top;\n",
       "    }\n",
       "\n",
       "    .dataframe thead th {\n",
       "        text-align: right;\n",
       "    }\n",
       "</style>\n",
       "<table border=\"1\" class=\"dataframe\">\n",
       "  <thead>\n",
       "    <tr style=\"text-align: right;\">\n",
       "      <th></th>\n",
       "      <th>k</th>\n",
       "      <th>accuracy</th>\n",
       "      <th>f1</th>\n",
       "      <th>runtime_ms</th>\n",
       "    </tr>\n",
       "  </thead>\n",
       "  <tbody>\n",
       "    <tr>\n",
       "      <th>0</th>\n",
       "      <td>1.0</td>\n",
       "      <td>0.960000</td>\n",
       "      <td>0.960000</td>\n",
       "      <td>39.197445</td>\n",
       "    </tr>\n",
       "    <tr>\n",
       "      <th>1</th>\n",
       "      <td>3.0</td>\n",
       "      <td>0.960000</td>\n",
       "      <td>0.960000</td>\n",
       "      <td>27.818441</td>\n",
       "    </tr>\n",
       "    <tr>\n",
       "      <th>2</th>\n",
       "      <td>5.0</td>\n",
       "      <td>0.966667</td>\n",
       "      <td>0.966663</td>\n",
       "      <td>30.329227</td>\n",
       "    </tr>\n",
       "    <tr>\n",
       "      <th>3</th>\n",
       "      <td>7.0</td>\n",
       "      <td>0.966667</td>\n",
       "      <td>0.966637</td>\n",
       "      <td>28.791666</td>\n",
       "    </tr>\n",
       "    <tr>\n",
       "      <th>4</th>\n",
       "      <td>10.0</td>\n",
       "      <td>0.953333</td>\n",
       "      <td>0.953329</td>\n",
       "      <td>27.418137</td>\n",
       "    </tr>\n",
       "    <tr>\n",
       "      <th>5</th>\n",
       "      <td>25.0</td>\n",
       "      <td>0.966667</td>\n",
       "      <td>0.966663</td>\n",
       "      <td>31.114101</td>\n",
       "    </tr>\n",
       "    <tr>\n",
       "      <th>6</th>\n",
       "      <td>50.0</td>\n",
       "      <td>0.946667</td>\n",
       "      <td>0.946581</td>\n",
       "      <td>38.661242</td>\n",
       "    </tr>\n",
       "    <tr>\n",
       "      <th>7</th>\n",
       "      <td>75.0</td>\n",
       "      <td>0.880000</td>\n",
       "      <td>0.879164</td>\n",
       "      <td>44.076443</td>\n",
       "    </tr>\n",
       "    <tr>\n",
       "      <th>8</th>\n",
       "      <td>100.0</td>\n",
       "      <td>0.526667</td>\n",
       "      <td>0.479904</td>\n",
       "      <td>51.412344</td>\n",
       "    </tr>\n",
       "  </tbody>\n",
       "</table>\n",
       "</div>"
      ],
      "text/plain": [
       "       k  accuracy        f1  runtime_ms\n",
       "0    1.0  0.960000  0.960000   39.197445\n",
       "1    3.0  0.960000  0.960000   27.818441\n",
       "2    5.0  0.966667  0.966663   30.329227\n",
       "3    7.0  0.966667  0.966637   28.791666\n",
       "4   10.0  0.953333  0.953329   27.418137\n",
       "5   25.0  0.966667  0.966663   31.114101\n",
       "6   50.0  0.946667  0.946581   38.661242\n",
       "7   75.0  0.880000  0.879164   44.076443\n",
       "8  100.0  0.526667  0.479904   51.412344"
      ]
     },
     "execution_count": 6,
     "metadata": {},
     "output_type": "execute_result"
    }
   ],
   "source": [
    "test_results"
   ]
  },
  {
   "cell_type": "code",
   "execution_count": 7,
   "metadata": {},
   "outputs": [
    {
     "data": {
      "image/png": "[encoded data removed]",
      "text/plain": [
       "<Figure size 720x576 with 1 Axes>"
      ]
     },
     "metadata": {
      "needs_background": "light"
     },
     "output_type": "display_data"
    }
   ],
   "source": [
    "#plt.figure(figsize=(8,6))\n",
    "fig = plt.figure(figsize=(10,8))\n",
    "ax = fig.add_subplot(111)\n",
    "plt.plot(test_results.k, test_results.accuracy, linestyle='--', marker='o', color='b')\n",
    "plt.xlabel('K')\n",
    "plt.ylabel('accuracy')\n",
    "plt.title('KNN accuaracy by value of K')\n",
    "row = test_results[test_results['k']==7]\n",
    "xy = (round(row.values[0][0]), round(row.values[0][1], 2))\n",
    "ax.annotate('(%s, %s)' % xy, xy=xy , textcoords='data')\n",
    "plt.show()"
   ]
  },
  {
   "cell_type": "code",
   "execution_count": 8,
   "metadata": {},
   "outputs": [
    {
     "name": "stdout",
     "output_type": "stream",
     "text": [
      "|    |   k |   accuracy |       f1 |   runtime_ms |\n",
      "|---:|----:|-----------:|---------:|-------------:|\n",
      "|  0 |   1 |   0.96     | 0.96     |      39.1974 |\n",
      "|  1 |   3 |   0.96     | 0.96     |      27.8184 |\n",
      "|  2 |   5 |   0.966667 | 0.966663 |      30.3292 |\n",
      "|  3 |   7 |   0.966667 | 0.966637 |      28.7917 |\n",
      "|  4 |  10 |   0.953333 | 0.953329 |      27.4181 |\n",
      "|  5 |  25 |   0.966667 | 0.966663 |      31.1141 |\n",
      "|  6 |  50 |   0.946667 | 0.946581 |      38.6612 |\n",
      "|  7 |  75 |   0.88     | 0.879164 |      44.0764 |\n",
      "|  8 | 100 |   0.526667 | 0.479904 |      51.4123 |\n"
     ]
    }
   ],
   "source": [
    "print(tabulate(test_results, tablefmt=\"pipe\", headers=\"keys\"))"
   ]
  },
  {
   "cell_type": "code",
   "execution_count": null,
   "metadata": {},
   "outputs": [],
   "source": []
  }
 ],
 "metadata": {
  "kernelspec": {
   "display_name": "Python 3",
   "language": "python",
   "name": "python3"
  },
  "language_info": {
   "codemirror_mode": {
    "name": "ipython",
    "version": 3
   },
   "file_extension": ".py",
   "mimetype": "text/x-python",
   "name": "python",
   "nbconvert_exporter": "python",
   "pygments_lexer": "ipython3",
   "version": "3.7.1"
  }
 },
 "nbformat": 4,
 "nbformat_minor": 2
}
