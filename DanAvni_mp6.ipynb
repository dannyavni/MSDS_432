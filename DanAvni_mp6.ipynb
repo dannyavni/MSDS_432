{
 "cells": [
  {
   "cell_type": "markdown",
   "metadata": {},
   "source": [
    "## MSDS 432 - Programming Assignment #6 Dan Avni"
   ]
  },
  {
   "cell_type": "markdown",
   "metadata": {},
   "source": [
    "## Executive Summary\n",
    "\n",
    "The purpose of this programming assignment is to provide a \"real-world\" demonstration of the runtime performance of four sorting algorithms: selection sort, insertion sort, quicksort and merge sort. \n",
    "\n",
    "The $\\Theta(n)$ and $O(n)$ notation captures the average-case and worst-case performance of that these algorithms respectively:\n",
    "\n",
    "| Algorithm  | Average-Case $\\Theta(n)$  | Worst-Case $\\Omega(n)$  |\n",
    "|-------------|:-------------:|-----|\n",
    "| Selection Sort  |$\\Theta(n^2)$ | $O(n^2)$ |   \n",
    "| Insertion Sort  |$\\Theta(n^2)$ | $O(n^2)$ |  \n",
    "| Merge Sort      |$\\Theta(nlogn)$ | $O(nlogn)$ |\n",
    "| Quicksort       |$\\Theta(nlogn)$ | $O(n^2)$ |\n",
    "\n",
    "We show that in practical terms the quicksort and merge sort algorithm delivered near identical runtime performance. We also look at the worst-case perofmrance to show how the table turn and merge delivering a demonstrtable superior performance. Actual implementation considerations should include memeory and access time considerations. \n",
    "\n",
    "Overall, both merge sort and quicksort should be considered as good options for sorting large datasets, while selection and insertion sort are only useful for east of implementation against smaller data."
   ]
  },
  {
   "cell_type": "markdown",
   "metadata": {},
   "source": [
    "## Method and Conclusions\n",
    "\n",
    "To demonstrate the various sort algorithm average-case performance, we prepared 1000 data elements consisting of a tuple of first name, last name, and state code selected randomly with no repetition or order.\n",
    "\n",
    "We sort the data 25 times using each of the four algorithms and measure the mean runtime performance. We show the results in both tabular and bar chart for and confirm the therotical results. \n",
    "\n",
    "We repeat the excercise with the data sorted in descending order to demonstrate the worst-case performance of quicksort and mergesort.\n",
    "\n",
    "The below chart shows the avergae case results.\n",
    "\n",
    "<img src=\"./runtime5.png\">"
   ]
  },
  {
   "cell_type": "markdown",
   "metadata": {},
   "source": [
    "## Implementation"
   ]
  },
  {
   "cell_type": "code",
   "execution_count": 10,
   "metadata": {},
   "outputs": [],
   "source": [
    "#import required packages\n",
    "from collections import deque\n",
    "import pandas as pd\n",
    "import time\n",
    "import matplotlib.pyplot as plt"
   ]
  },
  {
   "cell_type": "code",
   "execution_count": 19,
   "metadata": {},
   "outputs": [],
   "source": [
    "#breadth-first-search (bfs) implementation adapted and heavily modified from: \n",
    "#https://github.com/egonSchiele/grokking_algorithms/\n",
    "\n",
    "def breadth_first_search(tree, item):\n",
    "    search_queue = deque(['root'])\n",
    "    # This set is how you keep track of which items you've searched before.\n",
    "    searched = set()\n",
    "    while search_queue:\n",
    "        cur_item = search_queue.popleft()\n",
    "        # Only search this item if you haven't already searched them.\n",
    "        if cur_item not in searched:\n",
    "            if cur_item == item:\n",
    "                return True\n",
    "            else:\n",
    "                for child in tree[cur_item]:\n",
    "                    search_queue.append(child)\n",
    "                # Marks this item as searched\n",
    "                searched.add(cur_item)\n",
    "    return False"
   ]
  },
  {
   "cell_type": "code",
   "execution_count": 20,
   "metadata": {},
   "outputs": [
    {
     "data": {
      "text/plain": [
       "True"
      ]
     },
     "execution_count": 20,
     "metadata": {},
     "output_type": "execute_result"
    }
   ],
   "source": [
    "#unit test\n",
    "tree = {}\n",
    "tree['root'] = [\"danny\"]\n",
    "tree[\"danny\"] = [\"alice\", \"bob\", \"claire\"]\n",
    "tree[\"bob\"] = [\"anuj\", \"peggy\"]\n",
    "tree[\"alice\"] = [\"peggy\"]\n",
    "tree[\"claire\"] = [\"thom\", \"jonny\"]\n",
    "tree[\"anuj\"] = []\n",
    "tree[\"peggy\"] = []\n",
    "tree[\"thom\"] = []\n",
    "tree[\"jonny\"] = []\n",
    "\n",
    "breadth_first_search(tree, \"peggy\")"
   ]
  },
  {
   "cell_type": "code",
   "execution_count": 21,
   "metadata": {},
   "outputs": [],
   "source": [
    "#prepare data\n",
    "tree = {'root': []}\n",
    "\n",
    "def add_tree_children(tree, item, count, level):\n",
    "    if level == 6:\n",
    "        return\n",
    "    \n",
    "    if level == 0:\n",
    "        entry = tree['root']\n",
    "    else:\n",
    "        tree[item] = []\n",
    "        entry = tree[item]\n",
    "\n",
    "    for child in range(1, count+1):\n",
    "        child_item = '{}{}{}'.format(item,level+1,child)\n",
    "        entry.append(child_item)\n",
    "        add_tree_children(tree, child_item, count, level+1)\n",
    "\n",
    "add_tree_children(tree, \"\", 5, 0)"
   ]
  },
  {
   "cell_type": "code",
   "execution_count": 25,
   "metadata": {},
   "outputs": [],
   "source": [
    "search_levels = [1, 2, 3, 4, 5]\n",
    "\n",
    "test_results_col_names = ['search_level', 'search_item', 'search_ms']\n",
    "test_results           = pd.DataFrame(columns = test_results_col_names) \n",
    "\n",
    "search_prefix = ['1{}', '112{}', '11213{}', '1121314{}','112131415{}']\n",
    "\n",
    "for level in range(1,6):\n",
    "    for count in range(1,level+1):\n",
    "            search_item = search_prefix[level-1].format(count)\n",
    "            start   = time.time()\n",
    "            found = breadth_first_search(tree, search_item)\n",
    "            if steps == False:\n",
    "                raise Exception(\"item not found\")\n",
    "            search_ms = (time.time() - start) * 1000\n",
    "            #insert the results into a new dataframe record \n",
    "            test_results.loc[len(test_results)] = [level, search_item, search_ms]"
   ]
  },
  {
   "cell_type": "code",
   "execution_count": 26,
   "metadata": {},
   "outputs": [
    {
     "data": {
      "text/html": [
       "<div>\n",
       "<style scoped>\n",
       "    .dataframe tbody tr th:only-of-type {\n",
       "        vertical-align: middle;\n",
       "    }\n",
       "\n",
       "    .dataframe tbody tr th {\n",
       "        vertical-align: top;\n",
       "    }\n",
       "\n",
       "    .dataframe thead th {\n",
       "        text-align: right;\n",
       "    }\n",
       "</style>\n",
       "<table border=\"1\" class=\"dataframe\">\n",
       "  <thead>\n",
       "    <tr style=\"text-align: right;\">\n",
       "      <th></th>\n",
       "      <th>search_level</th>\n",
       "      <th>search_item</th>\n",
       "      <th>search_ms</th>\n",
       "    </tr>\n",
       "  </thead>\n",
       "  <tbody>\n",
       "    <tr>\n",
       "      <th>0</th>\n",
       "      <td>1</td>\n",
       "      <td>11</td>\n",
       "      <td>0.006914</td>\n",
       "    </tr>\n",
       "    <tr>\n",
       "      <th>1</th>\n",
       "      <td>2</td>\n",
       "      <td>1121</td>\n",
       "      <td>0.015974</td>\n",
       "    </tr>\n",
       "    <tr>\n",
       "      <th>2</th>\n",
       "      <td>2</td>\n",
       "      <td>1122</td>\n",
       "      <td>0.099182</td>\n",
       "    </tr>\n",
       "    <tr>\n",
       "      <th>3</th>\n",
       "      <td>3</td>\n",
       "      <td>112131</td>\n",
       "      <td>0.066757</td>\n",
       "    </tr>\n",
       "    <tr>\n",
       "      <th>4</th>\n",
       "      <td>3</td>\n",
       "      <td>112132</td>\n",
       "      <td>0.073910</td>\n",
       "    </tr>\n",
       "    <tr>\n",
       "      <th>5</th>\n",
       "      <td>3</td>\n",
       "      <td>112133</td>\n",
       "      <td>0.171900</td>\n",
       "    </tr>\n",
       "    <tr>\n",
       "      <th>6</th>\n",
       "      <td>4</td>\n",
       "      <td>11213141</td>\n",
       "      <td>0.291109</td>\n",
       "    </tr>\n",
       "    <tr>\n",
       "      <th>7</th>\n",
       "      <td>4</td>\n",
       "      <td>11213142</td>\n",
       "      <td>0.435829</td>\n",
       "    </tr>\n",
       "    <tr>\n",
       "      <th>8</th>\n",
       "      <td>4</td>\n",
       "      <td>11213143</td>\n",
       "      <td>0.455856</td>\n",
       "    </tr>\n",
       "    <tr>\n",
       "      <th>9</th>\n",
       "      <td>4</td>\n",
       "      <td>11213144</td>\n",
       "      <td>0.315905</td>\n",
       "    </tr>\n",
       "    <tr>\n",
       "      <th>10</th>\n",
       "      <td>5</td>\n",
       "      <td>1121314151</td>\n",
       "      <td>1.721144</td>\n",
       "    </tr>\n",
       "    <tr>\n",
       "      <th>11</th>\n",
       "      <td>5</td>\n",
       "      <td>1121314152</td>\n",
       "      <td>1.544237</td>\n",
       "    </tr>\n",
       "    <tr>\n",
       "      <th>12</th>\n",
       "      <td>5</td>\n",
       "      <td>1121314153</td>\n",
       "      <td>0.910997</td>\n",
       "    </tr>\n",
       "    <tr>\n",
       "      <th>13</th>\n",
       "      <td>5</td>\n",
       "      <td>1121314154</td>\n",
       "      <td>0.932932</td>\n",
       "    </tr>\n",
       "    <tr>\n",
       "      <th>14</th>\n",
       "      <td>5</td>\n",
       "      <td>1121314155</td>\n",
       "      <td>0.907183</td>\n",
       "    </tr>\n",
       "  </tbody>\n",
       "</table>\n",
       "</div>"
      ],
      "text/plain": [
       "   search_level search_item  search_ms\n",
       "0             1          11   0.006914\n",
       "1             2        1121   0.015974\n",
       "2             2        1122   0.099182\n",
       "3             3      112131   0.066757\n",
       "4             3      112132   0.073910\n",
       "5             3      112133   0.171900\n",
       "6             4    11213141   0.291109\n",
       "7             4    11213142   0.435829\n",
       "8             4    11213143   0.455856\n",
       "9             4    11213144   0.315905\n",
       "10            5  1121314151   1.721144\n",
       "11            5  1121314152   1.544237\n",
       "12            5  1121314153   0.910997\n",
       "13            5  1121314154   0.932932\n",
       "14            5  1121314155   0.907183"
      ]
     },
     "execution_count": 26,
     "metadata": {},
     "output_type": "execute_result"
    }
   ],
   "source": [
    "test_results"
   ]
  },
  {
   "cell_type": "code",
   "execution_count": 27,
   "metadata": {},
   "outputs": [],
   "source": [
    "test_results_mean = test_results.groupby(['search_level'], as_index=False)['search_ms'].mean()"
   ]
  },
  {
   "cell_type": "markdown",
   "metadata": {},
   "source": [
    "Below is a tabular representation of the test data. It is useful as the charts fail to show the minute fluctuations in the binary search performance. To get a true read of the binary search performance we will need to run multiple tests and average the results, as well as increase the size. We should also try to execute the code in a virtualized environment where the CPU is under competition from other processes."
   ]
  },
  {
   "cell_type": "code",
   "execution_count": 28,
   "metadata": {},
   "outputs": [
    {
     "data": {
      "text/html": [
       "<div>\n",
       "<style scoped>\n",
       "    .dataframe tbody tr th:only-of-type {\n",
       "        vertical-align: middle;\n",
       "    }\n",
       "\n",
       "    .dataframe tbody tr th {\n",
       "        vertical-align: top;\n",
       "    }\n",
       "\n",
       "    .dataframe thead th {\n",
       "        text-align: right;\n",
       "    }\n",
       "</style>\n",
       "<table border=\"1\" class=\"dataframe\">\n",
       "  <thead>\n",
       "    <tr style=\"text-align: right;\">\n",
       "      <th></th>\n",
       "      <th>search_level</th>\n",
       "      <th>search_ms</th>\n",
       "    </tr>\n",
       "  </thead>\n",
       "  <tbody>\n",
       "    <tr>\n",
       "      <th>0</th>\n",
       "      <td>1</td>\n",
       "      <td>0.006914</td>\n",
       "    </tr>\n",
       "    <tr>\n",
       "      <th>1</th>\n",
       "      <td>2</td>\n",
       "      <td>0.057578</td>\n",
       "    </tr>\n",
       "    <tr>\n",
       "      <th>2</th>\n",
       "      <td>3</td>\n",
       "      <td>0.104189</td>\n",
       "    </tr>\n",
       "    <tr>\n",
       "      <th>3</th>\n",
       "      <td>4</td>\n",
       "      <td>0.374675</td>\n",
       "    </tr>\n",
       "    <tr>\n",
       "      <th>4</th>\n",
       "      <td>5</td>\n",
       "      <td>1.203299</td>\n",
       "    </tr>\n",
       "  </tbody>\n",
       "</table>\n",
       "</div>"
      ],
      "text/plain": [
       "   search_level  search_ms\n",
       "0             1   0.006914\n",
       "1             2   0.057578\n",
       "2             3   0.104189\n",
       "3             4   0.374675\n",
       "4             5   1.203299"
      ]
     },
     "execution_count": 28,
     "metadata": {},
     "output_type": "execute_result"
    }
   ],
   "source": [
    "test_results_mean"
   ]
  },
  {
   "cell_type": "code",
   "execution_count": 29,
   "metadata": {},
   "outputs": [
    {
     "data": {
      "image/png": "[encoded data removed]",
      "text/plain": [
       "<matplotlib.figure.Figure at 0x11686ddd8>"
      ]
     },
     "metadata": {},
     "output_type": "display_data"
    }
   ],
   "source": [
    "#plot the binary and linear search results against the data length\n",
    "plt.figure(figsize=(8,4))\n",
    "plt.barh(test_results_mean.search_level, test_results_mean.search_ms, height=0.3, \n",
    "         color=['red', 'green', 'blue', 'cyan','orange'])\n",
    "plt.ylabel('search level')\n",
    "plt.xlabel('runtime (msec)')\n",
    "plt.title('mean breadth-first-search runtime by level (msec)')\n",
    "plt.show()"
   ]
  }
 ],
 "metadata": {
  "kernelspec": {
   "display_name": "Python 3",
   "language": "python",
   "name": "python3"
  },
  "language_info": {
   "codemirror_mode": {
    "name": "ipython",
    "version": 3
   },
   "file_extension": ".py",
   "mimetype": "text/x-python",
   "name": "python",
   "nbconvert_exporter": "python",
   "pygments_lexer": "ipython3",
   "version": "3.6.4"
  }
 },
 "nbformat": 4,
 "nbformat_minor": 2
}
