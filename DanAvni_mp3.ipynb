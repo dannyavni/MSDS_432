{
 "cells": [
  {
   "cell_type": "markdown",
   "metadata": {},
   "source": [
    "## MSDS 432 - Programming Assignment #3 Dan Avni"
   ]
  },
  {
   "cell_type": "markdown",
   "metadata": {},
   "source": [
    "## Executive Summary\n",
    "\n",
    "The purpose of this exercise is to investigate the runtime performance of two solution implementations of the same problem– the factorial. The first solution is an iterative solution that loops over the numbers in the range 1..n to compute factorial(n), while the second solution is a recursive function that provides the same outcome by making n number of nested function calls.\n",
    "Both solutions should share the expected Big O notation runtime performance as they perform the same number of operations. That Big O notation of runtime performance depends on the actual implementation of big integer multiplication. If an efficient method such as the Schönhage–Strassen algorithm is used, we excpect an O(n log n log log n)  runtime performance.\n",
    "\n",
    "Reference: https://en.wikipedia.org/wiki/Sch%C3%B6nhage%E2%80%93Strassen_algorithm .\n"
   ]
  },
  {
   "cell_type": "markdown",
   "metadata": {},
   "source": [
    "## Method and Conclusions\n",
    "\n",
    "We demonstrate below that the despite the two implementations sharing the same Big O notation runtime, the recursive implementation is significantly slower and likely more resource consuming.\n",
    "As the integer value analyzed grows, the depth of the recursion call incurs penalty in stack size required for state management while the iterative solution carries no overhead beyond the multiplication operation. \n",
    "While recursion has an important place in real-world implementations for east of coding and maintenance we should take care not to use recursion in scenarios that require tight runtime performance consideration or where the depth of the recursion is not reasonably controlled. \n",
    "\n",
    "See below chart of runtime performance against an array of 10 random integers between 100 and 500:\n",
    "\n",
    "<img src=\"./runtime1.png\">"
   ]
  },
  {
   "cell_type": "markdown",
   "metadata": {},
   "source": [
    "## Implementation"
   ]
  },
  {
   "cell_type": "code",
   "execution_count": 13,
   "metadata": {},
   "outputs": [],
   "source": [
    "#import required packages\n",
    "import numpy as np\n",
    "import matplotlib.pyplot as plt\n",
    "import pandas as pd\n",
    "import time\n",
    "import random"
   ]
  },
  {
   "cell_type": "code",
   "execution_count": 15,
   "metadata": {},
   "outputs": [],
   "source": [
    "# recursuve facorial implemntation adapted retrieved from:\n",
    "# https://github.com/egonSchiele/grokking_algorithms/blob/master/02_selection_sort/python/01_selection_sort.py\n",
    "\n",
    "def recursive_fact(x):\n",
    "  if x == 1:\n",
    "    return 1\n",
    "  else:\n",
    "    return x * recursive_fact(x-1)"
   ]
  },
  {
   "cell_type": "code",
   "execution_count": 16,
   "metadata": {},
   "outputs": [],
   "source": [
    "# iterative factorial solution u\n",
    "\n",
    "def iterative_fact(x):\n",
    "  fact = 1\n",
    "  for i in range(1,x+1):\n",
    "    fact = fact * i\n",
    "  return fact"
   ]
  },
  {
   "cell_type": "code",
   "execution_count": 17,
   "metadata": {},
   "outputs": [
    {
     "name": "stdout",
     "output_type": "stream",
     "text": [
      "5040\n",
      "5040\n",
      "True\n"
     ]
    }
   ],
   "source": [
    "#unit test validation of the factorial implementation\n",
    "\n",
    "print(recursive_fact(7))\n",
    "print(iterative_fact(7))\n",
    "print(recursive_fact(7)==iterative_fact(7))"
   ]
  },
  {
   "cell_type": "code",
   "execution_count": 18,
   "metadata": {},
   "outputs": [],
   "source": [
    "#utility function to generate and array of uniformly distributed data array with persistent seed across calls \n",
    "def generate_random_array(item_count, low, high):\n",
    "    np.random.seed(666)\n",
    "    \n",
    "    return np.random.randint(low, high, item_count).tolist()"
   ]
  },
  {
   "cell_type": "code",
   "execution_count": 19,
   "metadata": {},
   "outputs": [],
   "source": [
    "#prepare an array of all the desired data lengths\n",
    "random_ints = np.sort(generate_random_array(10, 100, 500)).tolist()\n",
    "\n",
    "#prepare an empty data frame with the desired column names\n",
    "test_data_col_names = ['number', 'factorial', 'iterative_ms', 'recursive_ms']\n",
    "test_data = pd.DataFrame(columns = test_data_col_names) "
   ]
  },
  {
   "cell_type": "code",
   "execution_count": 20,
   "metadata": {},
   "outputs": [],
   "source": [
    "#iterate over the possible lens, create test data for each length, and compture runtime length in milliseconds\n",
    "for random_int in random_ints:\n",
    "    start   = time.time()\n",
    "    fact1   = iterative_fact(random_int)\n",
    "    iterative_ms = (time.time() - start) * 1000\n",
    "\n",
    "    start   = time.time()\n",
    "    fact2    = recursive_fact(random_int)\n",
    "    recursive_ms = (time.time() - start) * 1000\n",
    "    \n",
    "    if fact1 != fact2:\n",
    "        raise Exception('This should never have happened. The two methods should concur!')\n",
    "    \n",
    "    #insert the results into a new dataframe record \n",
    "    #need to cast the factorial into a string to prevent a pandas float or int overflow\n",
    "    test_data.loc[len(test_data)] = [random_int, str(fact1), iterative_ms, recursive_ms]"
   ]
  },
  {
   "cell_type": "markdown",
   "metadata": {},
   "source": [
    "Below is a tabular representation of the test data. It is useful as the charts fail to show the minute fluctuations in the binary search performance. To get a true read of the binary search performance we will need to run multiple tests and average the results, as well as increase the size. We should also try to execute the code in a virtualized environment where the CPU is under competition from other processes."
   ]
  },
  {
   "cell_type": "code",
   "execution_count": 21,
   "metadata": {},
   "outputs": [
    {
     "data": {
      "text/html": [
       "<div>\n",
       "<style scoped>\n",
       "    .dataframe tbody tr th:only-of-type {\n",
       "        vertical-align: middle;\n",
       "    }\n",
       "\n",
       "    .dataframe tbody tr th {\n",
       "        vertical-align: top;\n",
       "    }\n",
       "\n",
       "    .dataframe thead th {\n",
       "        text-align: right;\n",
       "    }\n",
       "</style>\n",
       "<table border=\"1\" class=\"dataframe\">\n",
       "  <thead>\n",
       "    <tr style=\"text-align: right;\">\n",
       "      <th></th>\n",
       "      <th>number</th>\n",
       "      <th>factorial</th>\n",
       "      <th>iterative_ms</th>\n",
       "      <th>recursive_ms</th>\n",
       "    </tr>\n",
       "  </thead>\n",
       "  <tbody>\n",
       "    <tr>\n",
       "      <th>0</th>\n",
       "      <td>151</td>\n",
       "      <td>8627209774233240431623188626544191544816225903...</td>\n",
       "      <td>0.036478</td>\n",
       "      <td>0.211477</td>\n",
       "    </tr>\n",
       "    <tr>\n",
       "      <th>1</th>\n",
       "      <td>160</td>\n",
       "      <td>4714723635992061322406943211761943779511926230...</td>\n",
       "      <td>0.145197</td>\n",
       "      <td>0.227928</td>\n",
       "    </tr>\n",
       "    <tr>\n",
       "      <th>2</th>\n",
       "      <td>170</td>\n",
       "      <td>7257415615307998967396728211129263114716991681...</td>\n",
       "      <td>0.026226</td>\n",
       "      <td>0.174522</td>\n",
       "    </tr>\n",
       "    <tr>\n",
       "      <th>3</th>\n",
       "      <td>191</td>\n",
       "      <td>1848941630973752588819559184291528260234868800...</td>\n",
       "      <td>0.029087</td>\n",
       "      <td>0.153542</td>\n",
       "    </tr>\n",
       "    <tr>\n",
       "      <th>4</th>\n",
       "      <td>256</td>\n",
       "      <td>8578177753428426541190822716812326251577815202...</td>\n",
       "      <td>0.099421</td>\n",
       "      <td>1.531839</td>\n",
       "    </tr>\n",
       "    <tr>\n",
       "      <th>5</th>\n",
       "      <td>322</td>\n",
       "      <td>2187246741752763751432688247998659781970331487...</td>\n",
       "      <td>0.054121</td>\n",
       "      <td>0.334024</td>\n",
       "    </tr>\n",
       "    <tr>\n",
       "      <th>6</th>\n",
       "      <td>323</td>\n",
       "      <td>7064806975861426917127583041035671095764170704...</td>\n",
       "      <td>0.109196</td>\n",
       "      <td>0.179529</td>\n",
       "    </tr>\n",
       "    <tr>\n",
       "      <th>7</th>\n",
       "      <td>336</td>\n",
       "      <td>3885246413919554674957188781709166666213058911...</td>\n",
       "      <td>0.088215</td>\n",
       "      <td>0.230789</td>\n",
       "    </tr>\n",
       "    <tr>\n",
       "      <th>8</th>\n",
       "      <td>418</td>\n",
       "      <td>6704355013599149103015045905466432364040846480...</td>\n",
       "      <td>0.097513</td>\n",
       "      <td>1.282215</td>\n",
       "    </tr>\n",
       "    <tr>\n",
       "      <th>9</th>\n",
       "      <td>486</td>\n",
       "      <td>2402100606040589897197638086812797478301774839...</td>\n",
       "      <td>0.094175</td>\n",
       "      <td>1.405001</td>\n",
       "    </tr>\n",
       "  </tbody>\n",
       "</table>\n",
       "</div>"
      ],
      "text/plain": [
       "  number                                          factorial  iterative_ms  \\\n",
       "0    151  8627209774233240431623188626544191544816225903...      0.036478   \n",
       "1    160  4714723635992061322406943211761943779511926230...      0.145197   \n",
       "2    170  7257415615307998967396728211129263114716991681...      0.026226   \n",
       "3    191  1848941630973752588819559184291528260234868800...      0.029087   \n",
       "4    256  8578177753428426541190822716812326251577815202...      0.099421   \n",
       "5    322  2187246741752763751432688247998659781970331487...      0.054121   \n",
       "6    323  7064806975861426917127583041035671095764170704...      0.109196   \n",
       "7    336  3885246413919554674957188781709166666213058911...      0.088215   \n",
       "8    418  6704355013599149103015045905466432364040846480...      0.097513   \n",
       "9    486  2402100606040589897197638086812797478301774839...      0.094175   \n",
       "\n",
       "   recursive_ms  \n",
       "0      0.211477  \n",
       "1      0.227928  \n",
       "2      0.174522  \n",
       "3      0.153542  \n",
       "4      1.531839  \n",
       "5      0.334024  \n",
       "6      0.179529  \n",
       "7      0.230789  \n",
       "8      1.282215  \n",
       "9      1.405001  "
      ]
     },
     "execution_count": 21,
     "metadata": {},
     "output_type": "execute_result"
    }
   ],
   "source": [
    "#plain text data dump of the test results\n",
    "test_data"
   ]
  },
  {
   "cell_type": "code",
   "execution_count": 22,
   "metadata": {},
   "outputs": [
    {
     "data": {
      "image/png": "[encoded data removed]",
      "text/plain": [
       "<Figure size 576x576 with 1 Axes>"
      ]
     },
     "metadata": {
      "needs_background": "light"
     },
     "output_type": "display_data"
    }
   ],
   "source": [
    "#plot the binary and linear search results against the data length\n",
    "plt.figure(figsize=(8,8))\n",
    "\n",
    "plt.plot(test_data.number, test_data.iterative_ms)\n",
    "plt.plot(test_data.number, test_data.recursive_ms)\n",
    "\n",
    "plt.legend()\n",
    "plt.xlabel('data size')\n",
    "plt.ylabel('runtime (msec)')\n",
    "plt.title('recursive versus iterative factorial runtime (msec)')\n",
    "plt.show()"
   ]
  },
  {
   "cell_type": "markdown",
   "metadata": {},
   "source": [
    "## Extra Credit"
   ]
  },
  {
   "cell_type": "markdown",
   "metadata": {},
   "source": [
    "A recursive version of factorial using tail recursion can eliminate the recursion depth limitation set by Python. Alas, Python, unlike other functional langauges does not offer tail recursion optimization that prevents stack overflow by maintaining a fixed stack size - tail recursion only requires the last stack information to be preserved.\n",
    "\n",
    "The below solution is adapted to Python 3 from the ingenious \"hack\" presented here:\n",
    "http://code.activestate.com/recipes/474088/\n",
    "\n",
    "The solution works by decorating the function call with a wrapper that raises and catches an exception calls that unwinds the stack and retains only the requires information."
   ]
  },
  {
   "cell_type": "code",
   "execution_count": 46,
   "metadata": {},
   "outputs": [
    {
     "name": "stdout",
     "output_type": "stream",
     "text": [
      "3000\n"
     ]
    }
   ],
   "source": [
    "import sys\n",
    "print(sys.getrecursionlimit())\n",
    "#current limit is 3000"
   ]
  },
  {
   "cell_type": "code",
   "execution_count": 47,
   "metadata": {},
   "outputs": [
    {
     "ename": "RecursionError",
     "evalue": "maximum recursion depth exceeded in comparison",
     "output_type": "error",
     "traceback": [
      "\u001b[0;31m---------------------------------------------------------------------------\u001b[0m",
      "\u001b[0;31mRecursionError\u001b[0m                            Traceback (most recent call last)",
      "\u001b[0;32m<ipython-input-47-9e085f8df8e0>\u001b[0m in \u001b[0;36m<module>\u001b[0;34m\u001b[0m\n\u001b[0;32m----> 1\u001b[0;31m \u001b[0mrecursive_fact\u001b[0m\u001b[0;34m(\u001b[0m\u001b[0;36m3001\u001b[0m\u001b[0;34m)\u001b[0m\u001b[0;34m\u001b[0m\u001b[0;34m\u001b[0m\u001b[0m\n\u001b[0m\u001b[1;32m      2\u001b[0m \u001b[0;31m# demonsrte the original call fails with exception\u001b[0m\u001b[0;34m\u001b[0m\u001b[0;34m\u001b[0m\u001b[0;34m\u001b[0m\u001b[0m\n",
      "\u001b[0;32m<ipython-input-15-011151cd7113>\u001b[0m in \u001b[0;36mrecursive_fact\u001b[0;34m(x)\u001b[0m\n\u001b[1;32m      6\u001b[0m     \u001b[0;32mreturn\u001b[0m \u001b[0;36m1\u001b[0m\u001b[0;34m\u001b[0m\u001b[0;34m\u001b[0m\u001b[0m\n\u001b[1;32m      7\u001b[0m   \u001b[0;32melse\u001b[0m\u001b[0;34m:\u001b[0m\u001b[0;34m\u001b[0m\u001b[0;34m\u001b[0m\u001b[0m\n\u001b[0;32m----> 8\u001b[0;31m     \u001b[0;32mreturn\u001b[0m \u001b[0mx\u001b[0m \u001b[0;34m*\u001b[0m \u001b[0mrecursive_fact\u001b[0m\u001b[0;34m(\u001b[0m\u001b[0mx\u001b[0m\u001b[0;34m-\u001b[0m\u001b[0;36m1\u001b[0m\u001b[0;34m)\u001b[0m\u001b[0;34m\u001b[0m\u001b[0;34m\u001b[0m\u001b[0m\n\u001b[0m",
      "... last 1 frames repeated, from the frame below ...\n",
      "\u001b[0;32m<ipython-input-15-011151cd7113>\u001b[0m in \u001b[0;36mrecursive_fact\u001b[0;34m(x)\u001b[0m\n\u001b[1;32m      6\u001b[0m     \u001b[0;32mreturn\u001b[0m \u001b[0;36m1\u001b[0m\u001b[0;34m\u001b[0m\u001b[0;34m\u001b[0m\u001b[0m\n\u001b[1;32m      7\u001b[0m   \u001b[0;32melse\u001b[0m\u001b[0;34m:\u001b[0m\u001b[0;34m\u001b[0m\u001b[0;34m\u001b[0m\u001b[0m\n\u001b[0;32m----> 8\u001b[0;31m     \u001b[0;32mreturn\u001b[0m \u001b[0mx\u001b[0m \u001b[0;34m*\u001b[0m \u001b[0mrecursive_fact\u001b[0m\u001b[0;34m(\u001b[0m\u001b[0mx\u001b[0m\u001b[0;34m-\u001b[0m\u001b[0;36m1\u001b[0m\u001b[0;34m)\u001b[0m\u001b[0;34m\u001b[0m\u001b[0;34m\u001b[0m\u001b[0m\n\u001b[0m",
      "\u001b[0;31mRecursionError\u001b[0m: maximum recursion depth exceeded in comparison"
     ]
    }
   ],
   "source": [
    "recursive_fact(3001) \n",
    "# demonsrte the original call fails with exception"
   ]
  },
  {
   "cell_type": "code",
   "execution_count": null,
   "metadata": {},
   "outputs": [],
   "source": [
    "class TailRecurseException(BaseException):\n",
    "  def __init__(self, args, kwargs):\n",
    "    self.args = args\n",
    "    self.kwargs = kwargs\n",
    "\n",
    "def tail_call_optimized(g):\n",
    "  \"\"\"\n",
    "  This function decorates a function with tail call\n",
    "  optimization. It does this by throwing an exception\n",
    "  if it is it's own grandparent, and catching such\n",
    "  exceptions to fake the tail call optimization.\n",
    "  \n",
    "  This function fails if the decorated\n",
    "  function recurses in a non-tail context.\n",
    "  \"\"\"\n",
    "  def func(*args, **kwargs):\n",
    "    f = sys._getframe()\n",
    "    if f.f_back and f.f_back.f_back \\\n",
    "        and f.f_back.f_back.f_code == f.f_code:\n",
    "      raise TailRecurseException(args, kwargs)\n",
    "    else:\n",
    "      while 1:\n",
    "        try:\n",
    "          return g(*args, **kwargs)\n",
    "        except TailRecurseException as err:\n",
    "          args = err.args\n",
    "          kwargs = err.kwargs\n",
    "  func.__doc__ = g.__doc__\n",
    "  return func"
   ]
  },
  {
   "cell_type": "code",
   "execution_count": null,
   "metadata": {},
   "outputs": [],
   "source": [
    "@tail_call_optimized\n",
    "def tail_factorial(n, acc=1):\n",
    "    \"calculate a factorial\"\n",
    "    if n == 0:\n",
    "       return acc\n",
    "    res = tail_factorial(n-1, n*acc)\n",
    "    return res"
   ]
  },
  {
   "cell_type": "code",
   "execution_count": 48,
   "metadata": {},
   "outputs": [
    {
     "name": "stdout",
     "output_type": "stream",
     "text": [
      "124522281699170001107561581463529231250243087039903615629860924407503732539357193822080882964186188263645629090786234972605748364213251769291454759885366087174474734750501731743710052833929228098299323812185402496215644027057406114182059397116063622483618306374184800645228142576676340045104053578857621555063684910481578902640431458250408297387023883930929648555314888200929101642430941387184614770566441192454018772271687112626716159836685477630327901561980539226616252900214493246106978030403922843427325922208550769770936749293911971390482977893137468564290325334178610578709110750971758547129328203577613999447145025399474638210870619998251800908579211780910074416349861614077349406350692423475373548984028365018997688616988341789915457153446707244059349957368831637502966440470495887010270429690105726075082857433029552091583248635590508949826606715058672590905812442427389733892079963323283135196293235792858087504549169510628556924684750937940206396385639782161005324285201439258564507919106086875613926708311196158155805120547910747091919054459700556924411480817835169234429760497183159602646454994894365670769982120995147926246055634160397293562049418830253636208294040686172697470172766643658513139433048018347995959495221124968752979928410251627856389088807112449469915069001551031925078441314512402960093281842672376645682547684414798272514290128195785619680338556732912973626011780580244252304205311073544411264041204934052778280206999413981069348198678534978748428009061419151158173177302181497368611650922772323423816884351774512027307660210833104207565625750997763822004657315366907527638829631162112541805225914866297453895634913165390573618990791449542350259156766991884936901853358976684752639114119259800353039388109665340392322353509516641074132430632040203000827572178801937360772949160432943692098263887164151109755106970481189480971241802045909840671885773512073549048654054702112334468166392773210948874208495054250012613966998832014805623847750175023402571655053834885114102054969401956003267812092608032542652628263347072618192041093274295920101109824526565088570355551600941076992451926837299842748310911524245904057223566773189960731179608940664961821224072660297941879395906012292396297810764828462169036018901419153844389249088910550451141179373377054385137450717735312809042106249859932116094982554244218049579342873756898635747137738091134717286790934379480647557136969175401582217746083944333232515103087322085643135208892297952211501318428695765544911124960555345631640129255357133289739094957685437114183204908725706696397627813205068669079054953805634413313973882010382416021146667091531531061235294582084611735012003355863602993688646402762795548107395646400399139472330536788816512423074954478026463039359288794941959379790960547208573081218246747818144421597850920312135115158778419732282083777663184972210695063381410327361572338190444980668769307880864019640616478849836233927966442683410157889040292910852423279951576783952727774621232160148765347593613834376622337711165158809729843025086703497308729915096596464692029747736934312282941735041486031319646023287699842219830579955915166331505770516871873218448690755350308129978256861578550118719102785218806542748773954208984601757818391041587987747475748868320893277318430053360317910098552567141885501183761742063534863454834377103005871238201615323935036343734828029737188771257297831362267040934026897806292626189532958600808540618818375175951719153356501837811958052400317529763370619253470533059497071592569466156867033527868436967732961403058149734321609748223678295886432609709002418917679357505759480108379350225923374854347088745186748992831913595996318226418426608163788849930516913644865552176286809706062459373761882735899080544734890838938340035408753596737594217944190614121795345341129593611913442246225803096956449968684138778398688286423342605791440836798599914333577038106207264070532024759614893963921418560344547146821997982592524934927178772513636119591157163743997341376768334676879278983898890278615831538803381596768658838228936330755184034457832488368147580899744463768014716245819079125729173198972471132086083952542216310154969298245594485026184500761422974546710379879874566992683784469080423678035944082589322354091086241615176355930173286590007149690854169999108671717059354326663039266065574895473258283515151447475212645120791819876350256157627291314022746159238091657485797732054796317442796688245010496725190796776986780133839359607952101704502420325721942241313800069371922729089941013840063006379099634571895679332020632241737664145518128229732736564420934788643307487505174558660718674576142726473477848646807693835760299190800340723099699421654548570512664647266435170391799469066248905761938138653730696561238570875115448804972078332773599298464469551215146600497906347221407949819087248251085352971205079901566774247196690241681888897382773445966912633611644608323613768514209439062869101048928738428949240938608583949011371820295136817452028268892324640590963633270246900115376891343787300956114623841305281184982652315016565217677591804367807327846528033506898124403041550259767884336673958782614317574206014875818369266109130649816018816859234991934818866615016518012639262590878771137820164507705145529297485640738554677219846201542169005221454659404202921328292194272250625356852284378830007419926371953929633238144711839969831374097588956462143857148272719487441828622034361096856742737671373895484937042739911517463863619697654942879095988974886022653807064107717974867463469666426636784695456089560212244344745375559441005094060137711134317338561584548246163127600717026178139318163657635500205653233692460631064977560903054947558674716186315755594955233141765589929118443257970042994692227004414893360049969395174468247190268972393622015117231304682326952348273526325246486121742941441025159688424269650450578384246611161928184502376480761827401225651008260237047497014344070274302575600369807587024010484282138857895929405697012792494609320362419113527536470979978789743022068009880695564732998167402508167390722518988086021465532448640721545131817323947394054100764402343492249827248599191074135316236110598798222775593490456488719631480201189741938885217444056270385501175998850158917870412198215143667897579033707414866092746897050980446891339118403361826738929271850013784862437302873359649072781562240990214838992724947523001984722953461058482524005303499458411681277629946801248916991322216426624419175585744168009174300024822368667630154667523686633007449728209156467884849866362423683964607005809877468728294914248207644704471137979892665867551792159290684077202379879130090190922950987490640521495647656824298170064823891820345559553651661340482919591827409465395056082004506076222326119491739142570572323302388000585538335943970756068251391035851284885493361679632004013313152039121696903444717669590075260922036048926837305901465484504033967245811814021091422431862657736234380157804068348610843470895121719135071532493781442791801482469085988767092526913917561738359339972150289382895866830797245896637696746006336610721037289167120472092490398087277571128101805000122852217022737169960963974062224404488052385309803863634692251146668061472467044034810663361440937577243391451212069680680550548057705016379108830841353027692834496750255042665104032650843335480788049108036372016799153153440289801320071416056129906621599037451577311351901268776304716335631703629235963130819393627631278076622176521443099888543859212804965597425899074396646109134267028486574040419671111795723375339872287734367663987904880772131311644710434627749018628691500717770805332987514053534213451430748483197571393319470084619883521072135369184727921270228193763851070706243734526618827873682124468263614720457026372279330097475750298782395240364073790314511634995249303704745110800883646558389322030781662795318068350357477224845789503732602232509795194892911048675211946828793396991449289847558895059959443703222430899486600766530059349384710469728828129732278735793466798619470718460522229017436770054026727850839029319144667774802247443578028970277194480083663937223825544930560645197618758340889398655407612623021016026045466077633334824525296058259088977447522935831253713715077142815266567558407755379617139541947925465405724932739069696292794859501280849604859140228560335557105487590782149339705011012809275297188582240122843327054690409995304960000000000000000000000000000000000000000000000000000000000000000000000000000000000000000000000000000000000000000000000000000000000000000000000000000000000000000000000000000000000000000000000000000000000000000000000000000000000000000000000000000000000000000000000000000000000000000000000000000000000000000000000000000000000000000000000000000000000000000000000000000000000000000000000000000000000000000000000000000000000000000000000000000000000000000000000000000000000000000000000000000000000000000000000000000000000000000000000000000000000000000000000000000000000000000000000000000000000000000000000000000000000000000000000000000000000000000000000000000000000000000000000000000000000000000000000000000000000000000000000000000000000000000000000000000\n"
     ]
    }
   ],
   "source": [
    "print(tail_factorial(3001))"
   ]
  },
  {
   "cell_type": "markdown",
   "metadata": {},
   "source": [
    "A GitHub reposotory contaning commits for all the maerials in the assignemt was shared and made available here:\n",
    "\n",
    "https://github.com/dannyavni/MSDS_432"
   ]
  }
 ],
 "metadata": {
  "kernelspec": {
   "display_name": "Python 3",
   "language": "python",
   "name": "python3"
  },
  "language_info": {
   "codemirror_mode": {
    "name": "ipython",
    "version": 3
   },
   "file_extension": ".py",
   "mimetype": "text/x-python",
   "name": "python",
   "nbconvert_exporter": "python",
   "pygments_lexer": "ipython3",
   "version": "3.7.1"
  }
 },
 "nbformat": 4,
 "nbformat_minor": 2
}
