{
 "cells": [
  {
   "cell_type": "markdown",
   "metadata": {},
   "source": [
    "## MSDS 432 - Programming Assignment #9 Dan Avni"
   ]
  },
  {
   "cell_type": "markdown",
   "metadata": {},
   "source": [
    "The purpose of this programming assignment is "
   ]
  },
  {
   "cell_type": "code",
   "execution_count": 26,
   "metadata": {},
   "outputs": [],
   "source": [
    "#import required packages\n",
    "import numpy as np\n",
    "import pandas as pd"
   ]
  },
  {
   "cell_type": "code",
   "execution_count": 31,
   "metadata": {},
   "outputs": [],
   "source": [
    "#adapted from: https://www.sanfoundry.com/dynamic-programming-solutions-edit-distance-problem/\n",
    "def min_edit_distance(src, dest):\n",
    "    len1, len2 = len(src), len(dest)\n",
    " \n",
    "    #create a matrix of order (len1+1)*(len2+1) to memoize values\n",
    "    edit = np.empty([len1+1,len2+1], dtype=int)\n",
    " \n",
    "    #edit[i][j]=minimum number of edit operations required to transform src[0....(i-1)] to dest[0...(j-1)]\n",
    " \n",
    "    for i in range(0, len1+1):\n",
    "        edit[i][0]=i    #min operations required to transform src[0...i-1] to empty dest string\n",
    " \n",
    "    for j in range(0, len2+1):\n",
    "        edit[0][j]=j   #min operations required to transform empty src to dest[0...j-1]\n",
    " \n",
    "    #now, start filling the matrix row wise\n",
    "    for i in range(1, len1+1):\n",
    "        for j in range(1, len2+1):\n",
    "            #if current character of both strings match\n",
    "            if(src[i-1]==dest[j-1]):            \n",
    "                edit[i][j]=edit[i-1][j-1]\n",
    "            #mismatch\n",
    "            else:\n",
    "                #try applying all operations and choose the one which costs minimum\n",
    "                x=1+edit[i-1][j];    #delete \n",
    "                y=1+edit[i][j-1];    #insert\n",
    "                z=1+edit[i-1][j-1];  #replace\n",
    "                edit[i][j]=min(x,min(y,z))\n",
    "                \n",
    "    #now, return the final value \n",
    "    return edit[len1][len2];"
   ]
  },
  {
   "cell_type": "code",
   "execution_count": 32,
   "metadata": {},
   "outputs": [
    {
     "data": {
      "text/plain": [
       "5"
      ]
     },
     "execution_count": 32,
     "metadata": {},
     "output_type": "execute_result"
    }
   ],
   "source": [
    "min_edit_distance(\"danny\", \"mika\")"
   ]
  },
  {
   "cell_type": "code",
   "execution_count": 33,
   "metadata": {},
   "outputs": [
    {
     "data": {
      "text/plain": [
       "5"
      ]
     },
     "execution_count": 33,
     "metadata": {},
     "output_type": "execute_result"
    }
   ],
   "source": [
    "min_edit_distance(\"mika\", \"danny\")"
   ]
  },
  {
   "cell_type": "code",
   "execution_count": null,
   "metadata": {},
   "outputs": [],
   "source": []
  }
 ],
 "metadata": {
  "kernelspec": {
   "display_name": "Python 3",
   "language": "python",
   "name": "python3"
  },
  "language_info": {
   "codemirror_mode": {
    "name": "ipython",
    "version": 3
   },
   "file_extension": ".py",
   "mimetype": "text/x-python",
   "name": "python",
   "nbconvert_exporter": "python",
   "pygments_lexer": "ipython3",
   "version": "3.7.1"
  }
 },
 "nbformat": 4,
 "nbformat_minor": 2
}
