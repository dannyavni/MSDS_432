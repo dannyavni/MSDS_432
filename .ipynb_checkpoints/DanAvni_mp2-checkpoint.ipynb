{
 "cells": [
  {
   "cell_type": "markdown",
   "metadata": {},
   "source": [
    "## MSDS 432 - Programming Assignment #2 Dan Avni"
   ]
  },
  {
   "cell_type": "markdown",
   "metadata": {},
   "source": [
    "## Executive Summary\n",
    "\n",
    "The purpose of this programming assignment is to provide a \"real-world\" demonstration of the runtime growth of a poor performing sort algorithm such as selection sort, a naïve algorithm that scans the data, looking for the smallest or largest item, depending on the desired sort order, and places that item in the appropriate location, swapping it with the item that previously occupied that slot. \n",
    "\n",
    "In Big O notation the worst-case performance of that selection sort algorithm is O(n^2) with n being the dataset size. \n",
    "While the selection sort algorithm is easy to implement and requires little overhead in terms of memory, several more efficient algorithms exist. A general-purpose algorithm such as merge or quick sort can accomplish an O(n*log(n)) runtime, which in practical sense can make the difference between a feasible and infeasible solution. With some assumptions about data distribution, some algorithms can deliver an O(n) as well.\n",
    "\n",
    "Therefore, it is not generally recommended to use a selection sort algorithm, unless the data size is modest, and simplicity is preferred over runtime performance.\n"
   ]
  },
  {
   "cell_type": "markdown",
   "metadata": {},
   "source": [
    "## Method and Conclusions\n",
    "\n",
    "To demonstrate the selection sort algorithm performance, we prepared 20 data arrays with various lengths and data types including random, uniformly distributed data. \n",
    "\n",
    "The available lengths were 5,000, 10,000, 15,000, 20,000, and 25,000 elements, and the data types included integers ranging from 0 to 10000, decimal representing a floating-point number between -1 and 1, random character string of length 5 and 15.\n",
    "\n",
    "With the random data in hand, we conducted the selection sort algorithm and captured the runtime performance in milliseconds using the elapsed clock time.  \n",
    "While we did not produce an actual exponential growth pattern, the charts suggest a non-linear increase in runtime. \n",
    "Below is a plot of a sample runtime result study. We note that the runtime for str15 was the highest likely due to longer time to compare and swap the items, followed by str5. The integer and decimal sorts performed comparability, since the compare and swap operations for small numeric values can be performed extremely efficiently by modern CPUs.\n",
    "\n",
    "The below chart shows the complete results. A table with the same data is provided below. Furthermore, we note that the actual results fluctuated between runs as the effect of competing tasks (noise) occasionally exceeded the measured effect (signal). We would like to repeat this test in an insulated environment as well as randomize the calls order.\n",
    "\n",
    "<img src=\"./runtime.png\">"
   ]
  },
  {
   "cell_type": "markdown",
   "metadata": {},
   "source": [
    "## Implementation"
   ]
  },
  {
   "cell_type": "code",
   "execution_count": 1,
   "metadata": {},
   "outputs": [],
   "source": [
    "#import required packages\n",
    "import numpy as np\n",
    "import matplotlib.pyplot as plt\n",
    "import pandas as pd\n",
    "import time\n",
    "import string\n",
    "import random"
   ]
  },
  {
   "cell_type": "code",
   "execution_count": 2,
   "metadata": {},
   "outputs": [],
   "source": [
    "# selection sort implemntation retrieved from:\n",
    "# https://github.com/egonSchiele/grokking_algorithms/blob/master/02_selection_sort/python/01_selection_sort.py\n",
    "\n",
    "# Finds the smallest value in an array\n",
    "def findSmallest(arr):\n",
    "  # Stores the smallest value\n",
    "  smallest = arr[0]\n",
    "  # Stores the index of the smallest value\n",
    "  smallest_index = 0\n",
    "  for i in range(1, len(arr)):\n",
    "    if arr[i] < smallest:\n",
    "      smallest_index = i\n",
    "      smallest = arr[i]      \n",
    "  return smallest_index\n",
    "\n",
    "# Sort array\n",
    "def selectionSort(arr):\n",
    "  newArr = []\n",
    "  for i in range(len(arr)):\n",
    "      # Finds the smallest element in the array and adds it to the new array\n",
    "      smallest = findSmallest(arr)\n",
    "      newArr.append(arr.pop(smallest))\n",
    "  return newArr"
   ]
  },
  {
   "cell_type": "code",
   "execution_count": 3,
   "metadata": {},
   "outputs": [
    {
     "name": "stdout",
     "output_type": "stream",
     "text": [
      "[2, 3, 5, 6, 10]\n",
      "['0', 'a', 'c', 'za', 'zz']\n"
     ]
    }
   ],
   "source": [
    "#unit test validation of the selection sort implementation\n",
    "print(selectionSort([5, 3, 6, 2, 10]))\n",
    "print(selectionSort(['a', 'za', 'c', 'zz', '0']))"
   ]
  },
  {
   "cell_type": "code",
   "execution_count": 4,
   "metadata": {},
   "outputs": [],
   "source": [
    "#utility function to generate and array of uniformly distributed data array with persistent seed across calls \n",
    "def generate_random_array(data_type, item_count, low=0, high=10000):\n",
    "    np.random.seed(666)\n",
    "    \n",
    "    if data_type == 'integer':\n",
    "        return np.random.randint(low, high, item_count).tolist()\n",
    "    if data_type == 'str5':\n",
    "        return  [''.join(random.choices(string.ascii_letters, k = 5)) for _ in range(item_count)]\n",
    "    if data_type == 'str15':\n",
    "        return  [''.join(random.choices(string.ascii_letters, k = 15)) for _ in range(item_count)]\n",
    "    if data_type == 'decimal':\n",
    "        return  np.random.uniform(-1, 1, item_count).tolist()\n",
    "        \n",
    "    return None"
   ]
  },
  {
   "cell_type": "code",
   "execution_count": 5,
   "metadata": {},
   "outputs": [],
   "source": [
    "#prepare an array of all the desired data lengths\n",
    "test_data_len_list  = [5000, 10000, 15000, 20000, 25000]\n",
    "test_data_types     = ['integer', 'decimal', 'str5', 'str15']\n",
    "\n",
    "#prepare an empty data frame with the desired column names\n",
    "test_data_col_names = ['length', 'data_type', 'sort_ms']\n",
    "test_data           = pd.DataFrame(columns = test_data_col_names) "
   ]
  },
  {
   "cell_type": "code",
   "execution_count": 6,
   "metadata": {},
   "outputs": [],
   "source": [
    "#iterate over the possible lens, create test data for each length, and compture runtime length in milliseconds\n",
    "for test_data_len in test_data_len_list:\n",
    "    for test_data_type in test_data_types:\n",
    "        data = generate_random_array(test_data_type, test_data_len)\n",
    "    \n",
    "        start   = time.time()\n",
    "        data    = selectionSort(data)\n",
    "        sort_ms = (time.time() - start) * 1000\n",
    "\n",
    "        #insert the results into a new dataframe record \n",
    "        test_data.loc[len(test_data)] = [test_data_len, test_data_type, sort_ms]"
   ]
  },
  {
   "cell_type": "markdown",
   "metadata": {},
   "source": [
    "Below is a tabular representation of the test data. It is useful as the charts fail to show the minute fluctuations in the binary search performance. To get a true read of the binary search performance we will need to run multiple tests and average the results, as well as increase the size. We should also try to execute the code in a virtualized environment where the CPU is under competition from other processes."
   ]
  },
  {
   "cell_type": "code",
   "execution_count": 7,
   "metadata": {},
   "outputs": [
    {
     "data": {
      "text/html": [
       "<div>\n",
       "<style scoped>\n",
       "    .dataframe tbody tr th:only-of-type {\n",
       "        vertical-align: middle;\n",
       "    }\n",
       "\n",
       "    .dataframe tbody tr th {\n",
       "        vertical-align: top;\n",
       "    }\n",
       "\n",
       "    .dataframe thead th {\n",
       "        text-align: right;\n",
       "    }\n",
       "</style>\n",
       "<table border=\"1\" class=\"dataframe\">\n",
       "  <thead>\n",
       "    <tr style=\"text-align: right;\">\n",
       "      <th></th>\n",
       "      <th>length</th>\n",
       "      <th>data_type</th>\n",
       "      <th>sort_ms</th>\n",
       "    </tr>\n",
       "  </thead>\n",
       "  <tbody>\n",
       "    <tr>\n",
       "      <th>0</th>\n",
       "      <td>5000</td>\n",
       "      <td>integer</td>\n",
       "      <td>982.356548</td>\n",
       "    </tr>\n",
       "    <tr>\n",
       "      <th>1</th>\n",
       "      <td>5000</td>\n",
       "      <td>decimal</td>\n",
       "      <td>1453.436852</td>\n",
       "    </tr>\n",
       "    <tr>\n",
       "      <th>2</th>\n",
       "      <td>5000</td>\n",
       "      <td>str5</td>\n",
       "      <td>2287.502766</td>\n",
       "    </tr>\n",
       "    <tr>\n",
       "      <th>3</th>\n",
       "      <td>5000</td>\n",
       "      <td>str15</td>\n",
       "      <td>1483.291864</td>\n",
       "    </tr>\n",
       "    <tr>\n",
       "      <th>4</th>\n",
       "      <td>10000</td>\n",
       "      <td>integer</td>\n",
       "      <td>6315.949678</td>\n",
       "    </tr>\n",
       "    <tr>\n",
       "      <th>5</th>\n",
       "      <td>10000</td>\n",
       "      <td>decimal</td>\n",
       "      <td>6655.458212</td>\n",
       "    </tr>\n",
       "    <tr>\n",
       "      <th>6</th>\n",
       "      <td>10000</td>\n",
       "      <td>str5</td>\n",
       "      <td>8352.225065</td>\n",
       "    </tr>\n",
       "    <tr>\n",
       "      <th>7</th>\n",
       "      <td>10000</td>\n",
       "      <td>str15</td>\n",
       "      <td>6653.680086</td>\n",
       "    </tr>\n",
       "    <tr>\n",
       "      <th>8</th>\n",
       "      <td>15000</td>\n",
       "      <td>integer</td>\n",
       "      <td>14612.576723</td>\n",
       "    </tr>\n",
       "    <tr>\n",
       "      <th>9</th>\n",
       "      <td>15000</td>\n",
       "      <td>decimal</td>\n",
       "      <td>13553.956032</td>\n",
       "    </tr>\n",
       "    <tr>\n",
       "      <th>10</th>\n",
       "      <td>15000</td>\n",
       "      <td>str5</td>\n",
       "      <td>14629.630566</td>\n",
       "    </tr>\n",
       "    <tr>\n",
       "      <th>11</th>\n",
       "      <td>15000</td>\n",
       "      <td>str15</td>\n",
       "      <td>15179.824591</td>\n",
       "    </tr>\n",
       "    <tr>\n",
       "      <th>12</th>\n",
       "      <td>20000</td>\n",
       "      <td>integer</td>\n",
       "      <td>26536.136627</td>\n",
       "    </tr>\n",
       "    <tr>\n",
       "      <th>13</th>\n",
       "      <td>20000</td>\n",
       "      <td>decimal</td>\n",
       "      <td>22620.605946</td>\n",
       "    </tr>\n",
       "    <tr>\n",
       "      <th>14</th>\n",
       "      <td>20000</td>\n",
       "      <td>str5</td>\n",
       "      <td>30154.694319</td>\n",
       "    </tr>\n",
       "    <tr>\n",
       "      <th>15</th>\n",
       "      <td>20000</td>\n",
       "      <td>str15</td>\n",
       "      <td>22850.527287</td>\n",
       "    </tr>\n",
       "    <tr>\n",
       "      <th>16</th>\n",
       "      <td>25000</td>\n",
       "      <td>integer</td>\n",
       "      <td>26240.174770</td>\n",
       "    </tr>\n",
       "    <tr>\n",
       "      <th>17</th>\n",
       "      <td>25000</td>\n",
       "      <td>decimal</td>\n",
       "      <td>25579.005480</td>\n",
       "    </tr>\n",
       "    <tr>\n",
       "      <th>18</th>\n",
       "      <td>25000</td>\n",
       "      <td>str5</td>\n",
       "      <td>32119.261742</td>\n",
       "    </tr>\n",
       "    <tr>\n",
       "      <th>19</th>\n",
       "      <td>25000</td>\n",
       "      <td>str15</td>\n",
       "      <td>31073.829174</td>\n",
       "    </tr>\n",
       "  </tbody>\n",
       "</table>\n",
       "</div>"
      ],
      "text/plain": [
       "   length data_type       sort_ms\n",
       "0    5000   integer    982.356548\n",
       "1    5000   decimal   1453.436852\n",
       "2    5000      str5   2287.502766\n",
       "3    5000     str15   1483.291864\n",
       "4   10000   integer   6315.949678\n",
       "5   10000   decimal   6655.458212\n",
       "6   10000      str5   8352.225065\n",
       "7   10000     str15   6653.680086\n",
       "8   15000   integer  14612.576723\n",
       "9   15000   decimal  13553.956032\n",
       "10  15000      str5  14629.630566\n",
       "11  15000     str15  15179.824591\n",
       "12  20000   integer  26536.136627\n",
       "13  20000   decimal  22620.605946\n",
       "14  20000      str5  30154.694319\n",
       "15  20000     str15  22850.527287\n",
       "16  25000   integer  26240.174770\n",
       "17  25000   decimal  25579.005480\n",
       "18  25000      str5  32119.261742\n",
       "19  25000     str15  31073.829174"
      ]
     },
     "execution_count": 7,
     "metadata": {},
     "output_type": "execute_result"
    }
   ],
   "source": [
    "#plain text data dump of the test results\n",
    "test_data"
   ]
  },
  {
   "cell_type": "code",
   "execution_count": 8,
   "metadata": {},
   "outputs": [
    {
     "data": {
      "image/png": "[encoded data removed]",
      "text/plain": [
       "<Figure size 576x576 with 1 Axes>"
      ]
     },
     "metadata": {
      "needs_background": "light"
     },
     "output_type": "display_data"
    }
   ],
   "source": [
    "#plot the binary and linear search results against the data length\n",
    "plt.figure(figsize=(8,8))\n",
    "\n",
    "for test_data_type in test_data_types:\n",
    "    plt.plot(\n",
    "        test_data[test_data.data_type==test_data_type].length, \n",
    "        test_data[test_data.data_type==test_data_type].sort_ms, label = test_data_type)\n",
    "\n",
    "plt.legend()\n",
    "plt.xlabel('data size')\n",
    "plt.ylabel('runtime (msec)')\n",
    "plt.title('selection sort runtime (msec)')\n",
    "plt.show()"
   ]
  },
  {
   "cell_type": "markdown",
   "metadata": {},
   "source": [
    "## Extra Credit"
   ]
  },
  {
   "cell_type": "markdown",
   "metadata": {},
   "source": [
    "A GitHub reposotory contaning commits for all the maerials in the assignemt was shared and made available here:\n",
    "\n",
    "https://github.com/dannyavni/MSDS_432"
   ]
  }
 ],
 "metadata": {
  "kernelspec": {
   "display_name": "Python 3",
   "language": "python",
   "name": "python3"
  },
  "language_info": {
   "codemirror_mode": {
    "name": "ipython",
    "version": 3
   },
   "file_extension": ".py",
   "mimetype": "text/x-python",
   "name": "python",
   "nbconvert_exporter": "python",
   "pygments_lexer": "ipython3",
   "version": "3.7.1"
  }
 },
 "nbformat": 4,
 "nbformat_minor": 2
}
