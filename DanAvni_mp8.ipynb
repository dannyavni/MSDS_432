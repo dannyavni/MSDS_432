{
 "cells": [
  {
   "cell_type": "markdown",
   "metadata": {},
   "source": [
    "## MSDS 432 - Programming Assignment #5 Dan Avni"
   ]
  },
  {
   "cell_type": "markdown",
   "metadata": {},
   "source": [
    "## Executive Summary\n",
    "\n",
    "The purpose of this programming assignment "
   ]
  },
  {
   "cell_type": "code",
   "execution_count": 100,
   "metadata": {},
   "outputs": [],
   "source": [
    "def get_next_shift(guards, offset):\n",
    "    best_time  = 0\n",
    "    best_guard = None\n",
    "    \n",
    "    for guard in guards:\n",
    "        current = offset - guards[guard] \n",
    "        if current > best_time:\n",
    "            best_time  = current\n",
    "            best_guard = guard \n",
    "    \n",
    "    guards[best_guard] = offset\n",
    "    \n",
    "    return best_guard, best_time"
   ]
  },
  {
   "cell_type": "code",
   "execution_count": 121,
   "metadata": {},
   "outputs": [],
   "source": [
    "def init_data():\n",
    "    Inf  = float(\"inf\")\n",
    "    guards =  \\\n",
    "        {\n",
    "            'Dasher': -Inf, 'Dancer': -Inf, 'Prancer': -Inf, \n",
    "            'Comet': -Inf,  'Cupid':  -Inf, 'Dunder':  -Inf\n",
    "        }\n",
    "    return guards"
   ]
  },
  {
   "cell_type": "code",
   "execution_count": 124,
   "metadata": {},
   "outputs": [],
   "source": [
    "schedule = []\n",
    "\n",
    "guards = init_data()\n",
    "\n",
    "offset = 0\n",
    "for day in ['Mon', 'Tue', 'Wed', 'Thu', 'Fri', 'Sat', 'Sun']:\n",
    "    for shift in ['Night', 'Morning', 'Evening']:\n",
    "        guard, last_shift = get_next_shift(guards, offset)\n",
    "        schedule.append((day, shift, guard))\n",
    "        if last_shift < 24:\n",
    "            raise Exception(\"No solution found!\")\n",
    "        offset += 8"
   ]
  },
  {
   "cell_type": "code",
   "execution_count": 126,
   "metadata": {},
   "outputs": [
    {
     "data": {
      "text/plain": [
       "[('Mon', 'Night', 'Dasher'),\n",
       " ('Mon', 'Morning', 'Dancer'),\n",
       " ('Mon', 'Evening', 'Prancer'),\n",
       " ('Tue', 'Night', 'Comet'),\n",
       " ('Tue', 'Morning', 'Cupid'),\n",
       " ('Tue', 'Evening', 'Dunder'),\n",
       " ('Wed', 'Night', 'Dasher'),\n",
       " ('Wed', 'Morning', 'Dancer'),\n",
       " ('Wed', 'Evening', 'Prancer'),\n",
       " ('Thu', 'Night', 'Comet'),\n",
       " ('Thu', 'Morning', 'Cupid'),\n",
       " ('Thu', 'Evening', 'Dunder'),\n",
       " ('Fri', 'Night', 'Dasher'),\n",
       " ('Fri', 'Morning', 'Dancer'),\n",
       " ('Fri', 'Evening', 'Prancer'),\n",
       " ('Sat', 'Night', 'Comet'),\n",
       " ('Sat', 'Morning', 'Cupid'),\n",
       " ('Sat', 'Evening', 'Dunder'),\n",
       " ('Sun', 'Night', 'Dasher'),\n",
       " ('Sun', 'Morning', 'Dancer'),\n",
       " ('Sun', 'Evening', 'Prancer')]"
      ]
     },
     "execution_count": 126,
     "metadata": {},
     "output_type": "execute_result"
    }
   ],
   "source": [
    "schedule"
   ]
  },
  {
   "cell_type": "code",
   "execution_count": null,
   "metadata": {},
   "outputs": [],
   "source": []
  }
 ],
 "metadata": {
  "kernelspec": {
   "display_name": "Python 3",
   "language": "python",
   "name": "python3"
  },
  "language_info": {
   "codemirror_mode": {
    "name": "ipython",
    "version": 3
   },
   "file_extension": ".py",
   "mimetype": "text/x-python",
   "name": "python",
   "nbconvert_exporter": "python",
   "pygments_lexer": "ipython3",
   "version": "3.7.1"
  }
 },
 "nbformat": 4,
 "nbformat_minor": 2
}
