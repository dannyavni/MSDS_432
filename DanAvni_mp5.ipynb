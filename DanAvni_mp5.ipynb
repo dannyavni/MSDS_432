{
 "cells": [
  {
   "cell_type": "markdown",
   "metadata": {},
   "source": [
    "## MSDS 432 - Programming Assignment #5 Dan Avni"
   ]
  },
  {
   "cell_type": "markdown",
   "metadata": {},
   "source": [
    "## Executive Summary\n",
    "\n",
    "The purpose of this programming assignment is to provide a \"real-world\" demonstration of the runtime performance of four sorting algorithms: selection sort, insertion sort, quicksort and merge sort. \n",
    "\n",
    "The $\\Theta(n)$ and $O(n)$ notation captures the average-case and worst-case performance of that these algorithms respectively:\n",
    "\n",
    "| Algorithm  | Average-Case $\\Theta(n)$  | Worst-Case $\\Omega(n)$  |\n",
    "|-------------|:-------------:|-----|\n",
    "| Selection Sort  |$\\Theta(n^2)$ | $O(n^2)$ |   \n",
    "| Insertion Sort  |$\\Theta(n^2)$ | $O(n^2)$ |  \n",
    "| Merge Sort      |$\\Theta(nlogn)$ | $O(nlogn)$ |\n",
    "| Quicksort       |$\\Theta(nlogn)$ | $O(n^2)$ |\n",
    "\n",
    "We show that in practical terms the quicksort and merge sort algorithm delivered near identical runtime performance. We also look at the worst-case perofmrance to show how the table turn and merge delivering a demonstrtable superior performance. Actual implementation considerations should include memeory and access time considerations. \n",
    "\n",
    "Overall, both merge sort and quicksort should be considered as good options for sorting large datasets, while selection and insertion sort are only useful for east of implementation against smaller data."
   ]
  },
  {
   "cell_type": "markdown",
   "metadata": {},
   "source": [
    "## Method and Conclusions\n",
    "\n",
    "To demonstrate the various sort algorithm average-case performance, we prepared 1000 data elements consisting of a tuple of first name, last name, and state code selected randomly with no repetition or order.\n",
    "\n",
    "We sort the data 25 times using each of the four algorithms and measure the mean runtime performance. We show the results in both tabular and bar chart for and confirm the therotical results. \n",
    "\n",
    "We repeat the excercise with the data sorted in descending order to demonstrate the worst-case performance of quicksort and mergesort.\n",
    "\n",
    "The below chart shows the avergae case results.\n",
    "\n",
    "<img src=\"./runtime2.png\">"
   ]
  },
  {
   "cell_type": "markdown",
   "metadata": {},
   "source": [
    "## Implementation"
   ]
  },
  {
   "cell_type": "code",
   "execution_count": 1,
   "metadata": {},
   "outputs": [],
   "source": [
    "#import required packages\n",
    "import numpy as np\n",
    "import matplotlib.pyplot as plt\n",
    "import pandas as pd\n",
    "import time\n",
    "import string\n",
    "import random"
   ]
  },
  {
   "cell_type": "code",
   "execution_count": 2,
   "metadata": {},
   "outputs": [],
   "source": [
    "# binary search implemntation retrieved from https://github.com/egonSchiele/grokking_algorithms.git\n",
    "def binary_search(list, item):\n",
    "  # low and high keep track of which part of the list you'll search in.\n",
    "  low = 0\n",
    "  high = len(list) - 1\n",
    "\n",
    "  # While you haven't narrowed it down to one element ...\n",
    "  while low <= high:\n",
    "    # ... check the middle element\n",
    "    mid = (low + high) // 2\n",
    "    guess = list[mid]\n",
    "    # Found the item.\n",
    "    if guess == item:\n",
    "      return mid\n",
    "    # The guess was too high.\n",
    "    if guess > item:\n",
    "      high = mid - 1\n",
    "    # The guess was too low.\n",
    "    else:\n",
    "      low = mid + 1\n",
    "\n",
    "  # Item doesn't exist\n",
    "  return None"
   ]
  },
  {
   "cell_type": "code",
   "execution_count": 3,
   "metadata": {},
   "outputs": [],
   "source": [
    "# plain linear search implementation \n",
    "def linear_search(list, item):\n",
    "  pos  = 0\n",
    "  end = len(list) - 1\n",
    "\n",
    "  # While you haven't narrowed it down to one element ...\n",
    "  while pos <= end:\n",
    "    current = list[pos]\n",
    "    # Found the item.\n",
    "    if current == item:\n",
    "      return pos\n",
    "    else:\n",
    "      pos = pos + 1\n",
    "\n",
    "  # Item doesn't exist\n",
    "  return None"
   ]
  },
  {
   "cell_type": "code",
   "execution_count": 69,
   "metadata": {},
   "outputs": [],
   "source": [
    "# plain linear search implementation \n",
    "def hash_search(set, item):\n",
    "  return (item in set)"
   ]
  },
  {
   "cell_type": "code",
   "execution_count": 4,
   "metadata": {},
   "outputs": [],
   "source": [
    "# merge sort implementation - coded by the author using hands on keyboard. More \n",
    "\n",
    "def mergeSort(array):\n",
    "    l = len(array)\n",
    "    # base case of one element - no work needed\n",
    "    if l < 2:\n",
    "        return array\n",
    "    #split the array to two and sort recursively\n",
    "    mid = l//2\n",
    "    array1 = mergeSort(array[:mid])\n",
    "    array2 = mergeSort(array[mid:])\n",
    "    \n",
    "    i, i1, i2, l1, l2 = 0, 0, 0, len(array1), len(array2)\n",
    "    #merge the two array using one index for each sub-array\n",
    "    while i < l:\n",
    "        if i1 < l1 and (i2 == l2 or array1[i1] < array2[i2]):\n",
    "            array[i] = array1[i1]\n",
    "            i1 = i1 + 1\n",
    "        else:\n",
    "            array[i] = array2[i2]\n",
    "            i2 = i2 + 1\n",
    "        i = i1 + i2\n",
    "    return array"
   ]
  },
  {
   "cell_type": "code",
   "execution_count": 7,
   "metadata": {},
   "outputs": [],
   "source": [
    "# generate random data\n",
    "test_data = []\n",
    "for i in range(0,100000):\n",
    "    test_data.append(''.join(random.choices(string.ascii_letters, k = 10)) )\n",
    "    \n",
    "#ensure unique values\n",
    "uniq_dict = {}\n",
    "for item in test_data:\n",
    "    if item in uniq_dict:\n",
    "        raise Exception(\"test_data is not unique\")\n",
    "    uniq_dict[item] = 'found'"
   ]
  },
  {
   "cell_type": "code",
   "execution_count": 11,
   "metadata": {},
   "outputs": [],
   "source": [
    "test_data_sorted = mergeSort(test_data.copy())"
   ]
  },
  {
   "cell_type": "code",
   "execution_count": 61,
   "metadata": {},
   "outputs": [],
   "source": [
    "test_data_set = {key for key in test_data}"
   ]
  },
  {
   "cell_type": "code",
   "execution_count": 63,
   "metadata": {},
   "outputs": [],
   "source": [
    "search_items = [test_data[i-1] for i in [10000, 30000, 50000, 70000, 90000, 100000]]"
   ]
  },
  {
   "cell_type": "code",
   "execution_count": 70,
   "metadata": {},
   "outputs": [],
   "source": [
    "search_methods = [linear_search, binary_search, hash_search]\n",
    "search_methods_data = {linear_search: test_data, \n",
    "                       binary_search: test_data_sorted, \n",
    "                       hash_search: test_data_set}\n",
    "\n",
    "#prepare an empty data frame with the desired column names\n",
    "test_results_col_names = ['search_method', 'search_ms']\n",
    "test_results           = pd.DataFrame(columns = test_results_col_names) \n",
    "\n",
    "#iterate over the possible sort methods compture runtime length in milliseconds\n",
    "for i in range(0,25):\n",
    "    for search_method in search_methods:\n",
    "            start   = time.time()\n",
    "            for search_item in search_items:\n",
    "                search_method(search_methods_data[search_method], search_item)\n",
    "                search_ms = (time.time() - start) * 1000\n",
    "            #insert the results into a new dataframe record\n",
    "            test_results.loc[len(test_results)] = [search_method.__name__, search_ms]"
   ]
  },
  {
   "cell_type": "code",
   "execution_count": 71,
   "metadata": {},
   "outputs": [],
   "source": [
    "test_results_mean = test_results.groupby(['search_method'])['search_ms'].mean().to_frame()"
   ]
  },
  {
   "cell_type": "markdown",
   "metadata": {},
   "source": [
    "Below is a tabular representation of the test data. It is useful as the charts fail to show the minute fluctuations in the binary search performance. To get a true read of the binary search performance we will need to run multiple tests and average the results, as well as increase the size. We should also try to execute the code in a virtualized environment where the CPU is under competition from other processes."
   ]
  },
  {
   "cell_type": "code",
   "execution_count": 72,
   "metadata": {},
   "outputs": [
    {
     "data": {
      "text/html": [
       "<div>\n",
       "<style scoped>\n",
       "    .dataframe tbody tr th:only-of-type {\n",
       "        vertical-align: middle;\n",
       "    }\n",
       "\n",
       "    .dataframe tbody tr th {\n",
       "        vertical-align: top;\n",
       "    }\n",
       "\n",
       "    .dataframe thead th {\n",
       "        text-align: right;\n",
       "    }\n",
       "</style>\n",
       "<table border=\"1\" class=\"dataframe\">\n",
       "  <thead>\n",
       "    <tr style=\"text-align: right;\">\n",
       "      <th></th>\n",
       "      <th>search_ms</th>\n",
       "    </tr>\n",
       "    <tr>\n",
       "      <th>search_method</th>\n",
       "      <th></th>\n",
       "    </tr>\n",
       "  </thead>\n",
       "  <tbody>\n",
       "    <tr>\n",
       "      <th>binary_search</th>\n",
       "      <td>0.056686</td>\n",
       "    </tr>\n",
       "    <tr>\n",
       "      <th>hash_search</th>\n",
       "      <td>0.014029</td>\n",
       "    </tr>\n",
       "    <tr>\n",
       "      <th>linear_search</th>\n",
       "      <td>34.827232</td>\n",
       "    </tr>\n",
       "  </tbody>\n",
       "</table>\n",
       "</div>"
      ],
      "text/plain": [
       "               search_ms\n",
       "search_method           \n",
       "binary_search   0.056686\n",
       "hash_search     0.014029\n",
       "linear_search  34.827232"
      ]
     },
     "execution_count": 72,
     "metadata": {},
     "output_type": "execute_result"
    }
   ],
   "source": [
    "#plain text data dump of the test results\n",
    "test_results_mean"
   ]
  },
  {
   "cell_type": "code",
   "execution_count": 73,
   "metadata": {},
   "outputs": [
    {
     "data": {
      "image/png": "[encoded data removed]",
      "text/plain": [
       "<Figure size 576x288 with 1 Axes>"
      ]
     },
     "metadata": {
      "needs_background": "light"
     },
     "output_type": "display_data"
    }
   ],
   "source": [
    "#plot the binary and linear search results against the data length\n",
    "plt.figure(figsize=(8,4))\n",
    "\n",
    "plt.barh(test_results.search_method, test_results.search_ms, height=0.3, color=['red', 'green', 'blue'])\n",
    "\n",
    "plt.xlabel('search method')\n",
    "plt.ylabel('runtime (msec)')\n",
    "plt.title('mean search runtime by algorithm (msec)')\n",
    "plt.show()"
   ]
  },
  {
   "cell_type": "code",
   "execution_count": null,
   "metadata": {},
   "outputs": [],
   "source": []
  }
 ],
 "metadata": {
  "kernelspec": {
   "display_name": "Python 3",
   "language": "python",
   "name": "python3"
  },
  "language_info": {
   "codemirror_mode": {
    "name": "ipython",
    "version": 3
   },
   "file_extension": ".py",
   "mimetype": "text/x-python",
   "name": "python",
   "nbconvert_exporter": "python",
   "pygments_lexer": "ipython3",
   "version": "3.7.1"
  }
 },
 "nbformat": 4,
 "nbformat_minor": 2
}
