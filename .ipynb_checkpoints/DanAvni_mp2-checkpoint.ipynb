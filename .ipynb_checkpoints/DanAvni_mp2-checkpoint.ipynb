{
 "cells": [
  {
   "cell_type": "markdown",
   "metadata": {},
   "source": [
    "## MSDS 432 - Programming Assignment #2 Dan Avni"
   ]
  },
  {
   "cell_type": "markdown",
   "metadata": {},
   "source": [
    "## Executive Summary\n",
    "\n",
    "The purpose of this programming assignment is to "
   ]
  },
  {
   "cell_type": "markdown",
   "metadata": {},
   "source": [
    "## Method and Conclusions\n",
    "\n",
    "In order to \n",
    "<!--img src=\"./runtime.png\">"
   ]
  },
  {
   "cell_type": "markdown",
   "metadata": {},
   "source": [
    "## Implementation"
   ]
  },
  {
   "cell_type": "code",
   "execution_count": 8,
   "metadata": {},
   "outputs": [],
   "source": [
    "#import required packages\n",
    "import numpy as np\n",
    "import matplotlib.pyplot as plt\n",
    "import pandas as pd\n",
    "import time\n",
    "import string\n",
    "import random"
   ]
  },
  {
   "cell_type": "code",
   "execution_count": 1,
   "metadata": {},
   "outputs": [],
   "source": [
    "# selection sort implemntation retrieved from:\n",
    "# https://github.com/egonSchiele/grokking_algorithms/blob/master/02_selection_sort/python/01_selection_sort.py\n",
    "\n",
    "# Finds the smallest value in an array\n",
    "def findSmallest(arr):\n",
    "  # Stores the smallest value\n",
    "  smallest = arr[0]\n",
    "  # Stores the index of the smallest value\n",
    "  smallest_index = 0\n",
    "  for i in range(1, len(arr)):\n",
    "    if arr[i] < smallest:\n",
    "      smallest_index = i\n",
    "      smallest = arr[i]      \n",
    "  return smallest_index\n",
    "\n",
    "# Sort array\n",
    "def selectionSort(arr):\n",
    "  newArr = []\n",
    "  for i in range(len(arr)):\n",
    "      # Finds the smallest element in the array and adds it to the new array\n",
    "      smallest = findSmallest(arr)\n",
    "      newArr.append(arr.pop(smallest))\n",
    "  return newArr"
   ]
  },
  {
   "cell_type": "code",
   "execution_count": 3,
   "metadata": {},
   "outputs": [
    {
     "name": "stdout",
     "output_type": "stream",
     "text": [
      "[2, 3, 5, 6, 10]\n",
      "['0', 'a', 'c', 'za', 'zz']\n"
     ]
    }
   ],
   "source": [
    "#unit test validation of the selection sort implementation\n",
    "print(selectionSort([5, 3, 6, 2, 10]))\n",
    "print(selectionSort(['a', 'za', 'c', 'zz', '0']))"
   ]
  },
  {
   "cell_type": "code",
   "execution_count": 22,
   "metadata": {},
   "outputs": [],
   "source": [
    "#utility function to generate and array of uniformly distributed data array with persistent seed across calls \n",
    "def generate_random_array(data_type, item_count, low=0, high=10000):\n",
    "    np.random.seed(666)\n",
    "    \n",
    "    if data_type == 'integer':\n",
    "        return np.random.randint(low, high, item_count).tolist()\n",
    "    if data_type == 'str5':\n",
    "        return  [''.join(random.choices(string.ascii_letters, k = 5)) for _ in range(item_count)]\n",
    "    if data_type == 'str15':\n",
    "        return  [''.join(random.choices(string.ascii_letters, k = 15)) for _ in range(item_count)]\n",
    "    if data_type == 'decimal':\n",
    "        return  np.random.uniform(-1, 0, item_count).tolist()\n",
    "        \n",
    "    return None"
   ]
  },
  {
   "cell_type": "code",
   "execution_count": null,
   "metadata": {},
   "outputs": [],
   "source": [
    "#prepare an array of all the desired data lengths\n",
    "test_data_len_list  = [5000, 10000, 15000, 20000, 25000]\n",
    "test_data_types     = ['integer', 'decimal', 'str5', 'str15']\n",
    "\n",
    "#prepare an empty data frame with the desired column names\n",
    "test_data_col_names = ['length', 'data_type', 'sort_ms']\n",
    "test_data           = pd.DataFrame(columns = test_data_col_names) "
   ]
  },
  {
   "cell_type": "code",
   "execution_count": 23,
   "metadata": {},
   "outputs": [],
   "source": [
    "#iterate over the possible lens, create test data for each length, and compture runtime length in milliseconds\n",
    "for test_data_len in test_data_len_list:\n",
    "    for test_data_type in test_data_types:\n",
    "        data = generate_random_array(test_data_type, test_data_len)\n",
    "    \n",
    "        start   = time.time()\n",
    "        data    = selectionSort(data)\n",
    "        sort_ms = (time.time() - start) * 1000\n",
    "\n",
    "        #insert the results into a new dataframe record \n",
    "        test_data.loc[len(test_data)] = [test_data_len, test_data_type, sort_ms]"
   ]
  },
  {
   "cell_type": "markdown",
   "metadata": {},
   "source": [
    "Below is a tabular representation of the test data. It is useful as the charts fail to show the minute fluctuations in the binary search performance. To get a true read of the binary search performance we will need to run multiple tests and average the results, as well as increase the size. We should also try to execute the code in a virtualized environment where the CPU is under competition from other processes."
   ]
  },
  {
   "cell_type": "code",
   "execution_count": 24,
   "metadata": {},
   "outputs": [
    {
     "data": {
      "text/html": [
       "<div>\n",
       "<style scoped>\n",
       "    .dataframe tbody tr th:only-of-type {\n",
       "        vertical-align: middle;\n",
       "    }\n",
       "\n",
       "    .dataframe tbody tr th {\n",
       "        vertical-align: top;\n",
       "    }\n",
       "\n",
       "    .dataframe thead th {\n",
       "        text-align: right;\n",
       "    }\n",
       "</style>\n",
       "<table border=\"1\" class=\"dataframe\">\n",
       "  <thead>\n",
       "    <tr style=\"text-align: right;\">\n",
       "      <th></th>\n",
       "      <th>length</th>\n",
       "      <th>data_type</th>\n",
       "      <th>sort_ms</th>\n",
       "    </tr>\n",
       "  </thead>\n",
       "  <tbody>\n",
       "    <tr>\n",
       "      <th>0</th>\n",
       "      <td>5000</td>\n",
       "      <td>integer</td>\n",
       "      <td>634.004593</td>\n",
       "    </tr>\n",
       "    <tr>\n",
       "      <th>1</th>\n",
       "      <td>5000</td>\n",
       "      <td>decimal</td>\n",
       "      <td>605.965376</td>\n",
       "    </tr>\n",
       "    <tr>\n",
       "      <th>2</th>\n",
       "      <td>5000</td>\n",
       "      <td>str5</td>\n",
       "      <td>1104.060888</td>\n",
       "    </tr>\n",
       "    <tr>\n",
       "      <th>3</th>\n",
       "      <td>5000</td>\n",
       "      <td>str15</td>\n",
       "      <td>796.002388</td>\n",
       "    </tr>\n",
       "    <tr>\n",
       "      <th>4</th>\n",
       "      <td>10000</td>\n",
       "      <td>integer</td>\n",
       "      <td>2848.424435</td>\n",
       "    </tr>\n",
       "    <tr>\n",
       "      <th>5</th>\n",
       "      <td>10000</td>\n",
       "      <td>decimal</td>\n",
       "      <td>12355.542183</td>\n",
       "    </tr>\n",
       "    <tr>\n",
       "      <th>6</th>\n",
       "      <td>10000</td>\n",
       "      <td>str5</td>\n",
       "      <td>3352.237463</td>\n",
       "    </tr>\n",
       "    <tr>\n",
       "      <th>7</th>\n",
       "      <td>10000</td>\n",
       "      <td>str15</td>\n",
       "      <td>3130.434275</td>\n",
       "    </tr>\n",
       "    <tr>\n",
       "      <th>8</th>\n",
       "      <td>15000</td>\n",
       "      <td>integer</td>\n",
       "      <td>5605.355501</td>\n",
       "    </tr>\n",
       "    <tr>\n",
       "      <th>9</th>\n",
       "      <td>15000</td>\n",
       "      <td>decimal</td>\n",
       "      <td>5684.604168</td>\n",
       "    </tr>\n",
       "    <tr>\n",
       "      <th>10</th>\n",
       "      <td>15000</td>\n",
       "      <td>str5</td>\n",
       "      <td>8090.831280</td>\n",
       "    </tr>\n",
       "    <tr>\n",
       "      <th>11</th>\n",
       "      <td>15000</td>\n",
       "      <td>str15</td>\n",
       "      <td>8016.510487</td>\n",
       "    </tr>\n",
       "    <tr>\n",
       "      <th>12</th>\n",
       "      <td>20000</td>\n",
       "      <td>integer</td>\n",
       "      <td>10097.728491</td>\n",
       "    </tr>\n",
       "    <tr>\n",
       "      <th>13</th>\n",
       "      <td>20000</td>\n",
       "      <td>decimal</td>\n",
       "      <td>9760.899067</td>\n",
       "    </tr>\n",
       "    <tr>\n",
       "      <th>14</th>\n",
       "      <td>20000</td>\n",
       "      <td>str5</td>\n",
       "      <td>12666.883469</td>\n",
       "    </tr>\n",
       "    <tr>\n",
       "      <th>15</th>\n",
       "      <td>20000</td>\n",
       "      <td>str15</td>\n",
       "      <td>14933.466196</td>\n",
       "    </tr>\n",
       "    <tr>\n",
       "      <th>16</th>\n",
       "      <td>25000</td>\n",
       "      <td>integer</td>\n",
       "      <td>19802.684784</td>\n",
       "    </tr>\n",
       "    <tr>\n",
       "      <th>17</th>\n",
       "      <td>25000</td>\n",
       "      <td>decimal</td>\n",
       "      <td>18949.385405</td>\n",
       "    </tr>\n",
       "    <tr>\n",
       "      <th>18</th>\n",
       "      <td>25000</td>\n",
       "      <td>str5</td>\n",
       "      <td>21013.619423</td>\n",
       "    </tr>\n",
       "    <tr>\n",
       "      <th>19</th>\n",
       "      <td>25000</td>\n",
       "      <td>str15</td>\n",
       "      <td>20500.372887</td>\n",
       "    </tr>\n",
       "  </tbody>\n",
       "</table>\n",
       "</div>"
      ],
      "text/plain": [
       "   length data_type       sort_ms\n",
       "0    5000   integer    634.004593\n",
       "1    5000   decimal    605.965376\n",
       "2    5000      str5   1104.060888\n",
       "3    5000     str15    796.002388\n",
       "4   10000   integer   2848.424435\n",
       "5   10000   decimal  12355.542183\n",
       "6   10000      str5   3352.237463\n",
       "7   10000     str15   3130.434275\n",
       "8   15000   integer   5605.355501\n",
       "9   15000   decimal   5684.604168\n",
       "10  15000      str5   8090.831280\n",
       "11  15000     str15   8016.510487\n",
       "12  20000   integer  10097.728491\n",
       "13  20000   decimal   9760.899067\n",
       "14  20000      str5  12666.883469\n",
       "15  20000     str15  14933.466196\n",
       "16  25000   integer  19802.684784\n",
       "17  25000   decimal  18949.385405\n",
       "18  25000      str5  21013.619423\n",
       "19  25000     str15  20500.372887"
      ]
     },
     "execution_count": 24,
     "metadata": {},
     "output_type": "execute_result"
    }
   ],
   "source": [
    "#plain text data dump of the test results\n",
    "test_data"
   ]
  },
  {
   "cell_type": "code",
   "execution_count": 31,
   "metadata": {},
   "outputs": [
    {
     "data": {
      "image/png": "[encoded data removed]",
      "text/plain": [
       "<Figure size 576x576 with 1 Axes>"
      ]
     },
     "metadata": {
      "needs_background": "light"
     },
     "output_type": "display_data"
    }
   ],
   "source": [
    "#plot the binary and linear search results against the data length\n",
    "plt.figure(figsize=(8,8))\n",
    "\n",
    "for test_data_type in test_data_types:\n",
    "    plt.plot(\n",
    "        test_data[test_data.data_type==test_data_type].length, \n",
    "        test_data[test_data.data_type==test_data_type].sort_ms, label = test_data_type)\n",
    "\n",
    "plt.legend()\n",
    "plt.xlabel('data size')\n",
    "plt.ylabel('runtime (msec)')\n",
    "plt.title('selection sort runtime (msec)')\n",
    "plt.show()"
   ]
  },
  {
   "cell_type": "code",
   "execution_count": null,
   "metadata": {},
   "outputs": [],
   "source": []
  }
 ],
 "metadata": {
  "kernelspec": {
   "display_name": "Python 3",
   "language": "python",
   "name": "python3"
  },
  "language_info": {
   "codemirror_mode": {
    "name": "ipython",
    "version": 3
   },
   "file_extension": ".py",
   "mimetype": "text/x-python",
   "name": "python",
   "nbconvert_exporter": "python",
   "pygments_lexer": "ipython3",
   "version": "3.6.6"
  }
 },
 "nbformat": 4,
 "nbformat_minor": 2
}
