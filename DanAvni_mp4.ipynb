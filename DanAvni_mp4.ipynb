{
 "cells": [
  {
   "cell_type": "markdown",
   "metadata": {},
   "source": [
    "## MSDS 432 - Programming Assignment #4 Dan Avni"
   ]
  },
  {
   "cell_type": "markdown",
   "metadata": {},
   "source": [
    "## Executive Summary\n",
    "\n",
    "The purpose of this programming assignment is to provide a \"real-world\" demonstration of the runtime performance of four sorting algorithms: selection sort, insertion sort, quicksort and merge sort. \n",
    "\n",
    "The $\\Theta(n)$ and $O(n)$ notation captures the average-case and worst-case performance of that these algorithms respectively:\n",
    "\n",
    "| Algorithm  | Average-Case $\\Theta(n)$  | Worst-Case $\\Omega(n)$  |\n",
    "|-------------|:-------------:|-----|\n",
    "| Selection Sort  |$\\Theta(n^2)$ | $O(n^2)$ |   \n",
    "| Insertion Sort  |$\\Theta(n^2)$ | $O(n^2)$ |  \n",
    "| Merge Sort      |$\\Theta(nlogn)$ | $O(nlogn)$ |\n",
    "| Quicksort       |$\\Theta(nlogn)$ | $O(n^2)$ |\n",
    "\n",
    "We show that in practical terms the quicksort and merge sort algorithm delivered near identical runtime performance. We also look at the worst-case perofmrance to show how the table turn and merge delivering a demonstrtable superior performance. Actual implementation considerations should include memeory and access time considerations. \n",
    "\n",
    "Overall, both merge sort and quicksort should be considered as good options for sorting large datasets, while selection and insertion sort are only useful for east of implementation against smaller data."
   ]
  },
  {
   "cell_type": "markdown",
   "metadata": {},
   "source": [
    "## Method and Conclusions\n",
    "\n",
    "To demonstrate the various sort algorithm average-case performance, we prepared 1000 data elements consisting of a tuple of first name, last name, and state code selected randomly with no repetition or order.\n",
    "\n",
    "We sort the data 25 times using each of the four algorithms and measure the mean runtime performance. We show the results in both tabular and bar chart for and confirm the therotical results. \n",
    "\n",
    "We repeat the excercise with the data sorted in descending order to demonstrate the worst-case performance of quicksort and mergesort.\n",
    "\n",
    "The below chart shows the avergae case results.\n",
    "\n",
    "<img src=\"./runtime2.png\">"
   ]
  },
  {
   "cell_type": "markdown",
   "metadata": {},
   "source": [
    "## Implementation"
   ]
  },
  {
   "cell_type": "code",
   "execution_count": 253,
   "metadata": {},
   "outputs": [],
   "source": [
    "#import required packages\n",
    "import numpy as np\n",
    "import matplotlib.pyplot as plt\n",
    "import pandas as pd\n",
    "import time\n",
    "import string\n",
    "import random"
   ]
  },
  {
   "cell_type": "code",
   "execution_count": 254,
   "metadata": {},
   "outputs": [],
   "source": [
    "# selection sort implemntation retrieved from:\n",
    "# https://github.com/egonSchiele/grokking_algorithms/blob/master/02_selection_sort/python/01_selection_sort.py\n",
    "\n",
    "# Finds the smallest value in an array\n",
    "def findSmallest(arr):\n",
    "  # Stores the smallest value\n",
    "  smallest = arr[0]\n",
    "  # Stores the index of the smallest value\n",
    "  smallest_index = 0\n",
    "  for i in range(1, len(arr)):\n",
    "    if arr[i] < smallest:\n",
    "      smallest_index = i\n",
    "      smallest = arr[i]      \n",
    "  return smallest_index\n",
    "\n",
    "# Sort array\n",
    "def selectionSort(arr):\n",
    "  newArr = []\n",
    "  for i in range(len(arr)):\n",
    "      # Finds the smallest element in the array and adds it to the new array\n",
    "      smallest = findSmallest(arr)\n",
    "      newArr.append(arr.pop(smallest))\n",
    "  return newArr"
   ]
  },
  {
   "cell_type": "code",
   "execution_count": 255,
   "metadata": {},
   "outputs": [],
   "source": [
    "# quick sort implemntation retrieved from:\n",
    "# https://github.com/egonSchiele/grokking_algorithms/blob/master/04_quicksort/python/05_quicksort.py\n",
    "\n",
    "def quicksort(array):\n",
    "  if len(array) < 2:\n",
    "    # base case, arrays with 0 or 1 element are already \"sorted\"\n",
    "    return array\n",
    "  else:\n",
    "    # recursive case\n",
    "    pivot = array[0]\n",
    "    # sub-array of all the elements less than the pivot\n",
    "    less = [i for i in array[1:] if i <= pivot]\n",
    "    # sub-array of all the elements greater than the pivot\n",
    "    greater = [i for i in array[1:] if i > pivot]\n",
    "    return quicksort(less) + [pivot] + quicksort(greater)"
   ]
  },
  {
   "cell_type": "code",
   "execution_count": 256,
   "metadata": {},
   "outputs": [],
   "source": [
    "# insertion sort implementation based on pseducode from https://en.wikipedia.org/wiki/Insertion_sort\n",
    "\n",
    "def insertionSort(array):\n",
    "    i = 1\n",
    "    while i < len(array):\n",
    "        j = i\n",
    "        while j > 0 and array[j-1] > array[j]:\n",
    "            array[j], array[j-1] = array[j-1], array[j]\n",
    "            j = j - 1\n",
    "        i = i + 1\n",
    "    return array"
   ]
  },
  {
   "cell_type": "code",
   "execution_count": 271,
   "metadata": {},
   "outputs": [],
   "source": [
    "# merge sort implementation - coded by the author using hands on keyboard. More \n",
    "\n",
    "def mergeSort(array):\n",
    "    l = len(array)\n",
    "    # base case of one element - no work needed\n",
    "    if l < 2:\n",
    "        return array\n",
    "    #split the array to two and sort recursively\n",
    "    mid = l//2\n",
    "    array1 = mergeSort(array[:mid])\n",
    "    array2 = mergeSort(array[mid:])\n",
    "    \n",
    "    i, i1, i2, l1, l2 = 0, 0, 0, len(array1), len(array2)\n",
    "    #merge the two array using one index for each sub-array\n",
    "    while i < l:\n",
    "        if i1 < l1 and (i2 == l2 or array1[i1] < array2[i2]):\n",
    "            array[i] = array1[i1]\n",
    "            i1 = i1 + 1\n",
    "        else:\n",
    "            array[i] = array2[i2]\n",
    "            i2 = i2 + 1\n",
    "        i = i1 + i2\n",
    "    return array"
   ]
  },
  {
   "cell_type": "code",
   "execution_count": 272,
   "metadata": {
    "scrolled": false
   },
   "outputs": [
    {
     "name": "stdout",
     "output_type": "stream",
     "text": [
      "['-12', '0', '5', '@', 'a', 'asds', 'c', 'za', 'zz']\n",
      "['-12', '0', '5', '@', 'a', 'asds', 'c', 'za', 'zz']\n",
      "['-12', '0', '5', '@', 'a', 'asds', 'c', 'za', 'zz']\n",
      "['-12', '0', '5', '@', 'a', 'asds', 'c', 'za', 'zz']\n"
     ]
    }
   ],
   "source": [
    "#unit test validation of the selection sort implementation\n",
    "array = ['a', 'za', 'c', 'zz', '0', '5', '-12','@','asds']\n",
    "\n",
    "print(selectionSort(array.copy()))\n",
    "print(insertionSort(array.copy()))\n",
    "print(quicksort(array.copy()))\n",
    "print(mergeSort(array.copy()))"
   ]
  },
  {
   "cell_type": "code",
   "execution_count": 273,
   "metadata": {},
   "outputs": [],
   "source": [
    "state_codes = \\\n",
    "    [\n",
    "    'AK', 'AL', 'AR', 'AZ', 'CA', 'CO', 'CT', 'DE', 'FL', 'GA',\n",
    "    'HI', 'IA', 'ID', 'IL', 'IN', 'KS', 'KY', 'LA', 'MA', 'MD', \n",
    "    'ME', 'MI', 'MN', 'MO', 'MS', 'MT', 'NC', 'ND', 'NE', 'NH', \n",
    "    'NJ', 'NM', 'NV', 'NY', 'OH', 'OK', 'OR', 'PA', 'RI', 'SC', \n",
    "    'SD', 'TN', 'TX', 'UT', 'VA', 'VT', 'WA', 'WI', 'WV', 'WY'\n",
    "    ]"
   ]
  },
  {
   "cell_type": "code",
   "execution_count": 274,
   "metadata": {},
   "outputs": [],
   "source": [
    "# generate random data\n",
    "test_data = []\n",
    "for i in range(0,1000):\n",
    "    first_name = ''.join(random.choices(string.ascii_letters, k = 10)) \n",
    "    last_name  = ''.join(random.choices(string.ascii_letters, k = 10)) \n",
    "    state_code = state_codes[np.random.randint(0,49)]\n",
    "    test_data.append((first_name, last_name, state_code))\n",
    "    \n",
    "#ensure unique values\n",
    "uniq_dict = {}\n",
    "for item in test_data:\n",
    "    if item in uniq_dict:\n",
    "        raise Exception(\"test_data is not unique\")\n",
    "    uniq_dict[item] = 'found'"
   ]
  },
  {
   "cell_type": "code",
   "execution_count": 287,
   "metadata": {},
   "outputs": [],
   "source": [
    "sort_methods = [insertionSort, quicksort, mergeSort, selectionSort]\n",
    "\n",
    "#prepare an empty data frame with the desired column names\n",
    "test_results_col_names = ['sort_method', 'sort_ms']\n",
    "test_results           = pd.DataFrame(columns = test_results_col_names) \n",
    "\n",
    "#iterate over the possible sort methods compture runtime length in milliseconds\n",
    "for i in range(0,25):\n",
    "    for sort_method in sort_methods:\n",
    "            start   = time.time()\n",
    "            data    = sort_method(test_data.copy())\n",
    "            sort_ms = (time.time() - start) * 1000\n",
    "            #insert the results into a new dataframe record \n",
    "            test_results.loc[len(test_results)] = [sort_method.__name__, sort_ms]"
   ]
  },
  {
   "cell_type": "code",
   "execution_count": 288,
   "metadata": {},
   "outputs": [],
   "source": [
    "test_results_mean = test_results.groupby(['sort_method'])['sort_ms'].mean().to_frame()"
   ]
  },
  {
   "cell_type": "markdown",
   "metadata": {},
   "source": [
    "Below is a tabular representation of the test data. It is useful as the charts fail to show the minute fluctuations in the binary search performance. To get a true read of the binary search performance we will need to run multiple tests and average the results, as well as increase the size. We should also try to execute the code in a virtualized environment where the CPU is under competition from other processes."
   ]
  },
  {
   "cell_type": "code",
   "execution_count": 289,
   "metadata": {},
   "outputs": [
    {
     "data": {
      "text/html": [
       "<div>\n",
       "<style scoped>\n",
       "    .dataframe tbody tr th:only-of-type {\n",
       "        vertical-align: middle;\n",
       "    }\n",
       "\n",
       "    .dataframe tbody tr th {\n",
       "        vertical-align: top;\n",
       "    }\n",
       "\n",
       "    .dataframe thead th {\n",
       "        text-align: right;\n",
       "    }\n",
       "</style>\n",
       "<table border=\"1\" class=\"dataframe\">\n",
       "  <thead>\n",
       "    <tr style=\"text-align: right;\">\n",
       "      <th></th>\n",
       "      <th>sort_ms</th>\n",
       "    </tr>\n",
       "    <tr>\n",
       "      <th>sort_method</th>\n",
       "      <th></th>\n",
       "    </tr>\n",
       "  </thead>\n",
       "  <tbody>\n",
       "    <tr>\n",
       "      <th>insertionSort</th>\n",
       "      <td>83.727837</td>\n",
       "    </tr>\n",
       "    <tr>\n",
       "      <th>mergeSort</th>\n",
       "      <td>3.052092</td>\n",
       "    </tr>\n",
       "    <tr>\n",
       "      <th>quicksort</th>\n",
       "      <td>2.718115</td>\n",
       "    </tr>\n",
       "    <tr>\n",
       "      <th>selectionSort</th>\n",
       "      <td>43.277531</td>\n",
       "    </tr>\n",
       "  </tbody>\n",
       "</table>\n",
       "</div>"
      ],
      "text/plain": [
       "                 sort_ms\n",
       "sort_method             \n",
       "insertionSort  83.727837\n",
       "mergeSort       3.052092\n",
       "quicksort       2.718115\n",
       "selectionSort  43.277531"
      ]
     },
     "execution_count": 289,
     "metadata": {},
     "output_type": "execute_result"
    }
   ],
   "source": [
    "#plain text data dump of the test results\n",
    "test_results_mean"
   ]
  },
  {
   "cell_type": "code",
   "execution_count": 290,
   "metadata": {},
   "outputs": [
    {
     "data": {
      "image/png": "[encoded data removed]",
      "text/plain": [
       "<Figure size 576x288 with 1 Axes>"
      ]
     },
     "metadata": {
      "needs_background": "light"
     },
     "output_type": "display_data"
    }
   ],
   "source": [
    "#plot the binary and linear search results against the data length\n",
    "plt.figure(figsize=(8,4))\n",
    "\n",
    "plt.barh(test_results.sort_method, test_results.sort_ms, height=0.3, color=['red', 'green', 'blue', 'cyan'])\n",
    "\n",
    "plt.xlabel('sort method')\n",
    "plt.ylabel('runtime (msec)')\n",
    "plt.title('mean sort runtime by algorithm (msec)')\n",
    "plt.show()"
   ]
  },
  {
   "cell_type": "markdown",
   "metadata": {},
   "source": [
    "## Worst-Case Test Scenario"
   ]
  },
  {
   "cell_type": "markdown",
   "metadata": {},
   "source": [
    "Let's look at worst case performance of quicksort versus merge sort, demonstrating how the worst case behavior of merge sort is $O(log n)$ while quicksort degrades to $O(n^2)$.\n",
    "\n",
    "We accomplish this by sorting the input in descending order prior to invoking each respective algorithm."
   ]
  },
  {
   "cell_type": "code",
   "execution_count": 265,
   "metadata": {},
   "outputs": [],
   "source": [
    "sort_methods = [mergeSort, quicksort]\n",
    "\n",
    "#prepare an empty data frame with the desired column names\n",
    "test_results_col_names = ['sort_method', 'sort_ms']\n",
    "test_results           = pd.DataFrame(columns = test_results_col_names) \n",
    "\n",
    "#iterate over the possible sort methods compture runtime length in milliseconds\n",
    "for i in range(0,25):\n",
    "    for sort_method in sort_methods:\n",
    "            test_data_copy = sorted(test_data, reverse=True)\n",
    "            start   = time.time()\n",
    "            data    = sort_method(test_data_copy)\n",
    "            sort_ms = (time.time() - start) * 1000\n",
    "            #insert the results into a new dataframe record \n",
    "            test_results.loc[len(test_results)] = [sort_method.__name__, sort_ms]"
   ]
  },
  {
   "cell_type": "code",
   "execution_count": 266,
   "metadata": {},
   "outputs": [],
   "source": [
    "test_results_mean = test_results.groupby(['sort_method'])['sort_ms'].mean().to_frame()"
   ]
  },
  {
   "cell_type": "markdown",
   "metadata": {},
   "source": [
    "Below is a tabular representation of the test results data."
   ]
  },
  {
   "cell_type": "code",
   "execution_count": 267,
   "metadata": {},
   "outputs": [
    {
     "data": {
      "text/html": [
       "<div>\n",
       "<style scoped>\n",
       "    .dataframe tbody tr th:only-of-type {\n",
       "        vertical-align: middle;\n",
       "    }\n",
       "\n",
       "    .dataframe tbody tr th {\n",
       "        vertical-align: top;\n",
       "    }\n",
       "\n",
       "    .dataframe thead th {\n",
       "        text-align: right;\n",
       "    }\n",
       "</style>\n",
       "<table border=\"1\" class=\"dataframe\">\n",
       "  <thead>\n",
       "    <tr style=\"text-align: right;\">\n",
       "      <th></th>\n",
       "      <th>sort_ms</th>\n",
       "    </tr>\n",
       "    <tr>\n",
       "      <th>sort_method</th>\n",
       "      <th></th>\n",
       "    </tr>\n",
       "  </thead>\n",
       "  <tbody>\n",
       "    <tr>\n",
       "      <th>mergeSort</th>\n",
       "      <td>3.110199</td>\n",
       "    </tr>\n",
       "    <tr>\n",
       "      <th>quicksort</th>\n",
       "      <td>88.794670</td>\n",
       "    </tr>\n",
       "  </tbody>\n",
       "</table>\n",
       "</div>"
      ],
      "text/plain": [
       "               sort_ms\n",
       "sort_method           \n",
       "mergeSort     3.110199\n",
       "quicksort    88.794670"
      ]
     },
     "execution_count": 267,
     "metadata": {},
     "output_type": "execute_result"
    }
   ],
   "source": [
    "#plain text data dump of the test results\n",
    "test_results_mean"
   ]
  },
  {
   "cell_type": "code",
   "execution_count": 268,
   "metadata": {},
   "outputs": [
    {
     "data": {
      "image/png": "[encoded data removed]",
      "text/plain": [
       "<Figure size 576x288 with 1 Axes>"
      ]
     },
     "metadata": {
      "needs_background": "light"
     },
     "output_type": "display_data"
    }
   ],
   "source": [
    "#plot the binary and linear search results against the data length\n",
    "plt.figure(figsize=(8,4))\n",
    "\n",
    "plt.barh(test_results.sort_method, test_results.sort_ms, height=0.3, color=['blue', 'cyan'])\n",
    "\n",
    "plt.xlabel('sort method')\n",
    "plt.ylabel('runtime (msec)')\n",
    "plt.title('mean sort runtime by algorithm (msec)')\n",
    "plt.show()"
   ]
  }
 ],
 "metadata": {
  "kernelspec": {
   "display_name": "Python 3",
   "language": "python",
   "name": "python3"
  },
  "language_info": {
   "codemirror_mode": {
    "name": "ipython",
    "version": 3
   },
   "file_extension": ".py",
   "mimetype": "text/x-python",
   "name": "python",
   "nbconvert_exporter": "python",
   "pygments_lexer": "ipython3",
   "version": "3.7.1"
  }
 },
 "nbformat": 4,
 "nbformat_minor": 2
}
