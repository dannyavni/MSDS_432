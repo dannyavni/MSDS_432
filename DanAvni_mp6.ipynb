{
 "cells": [
  {
   "cell_type": "markdown",
   "metadata": {},
   "source": [
    "## MSDS 432 - Programming Assignment #6 Dan Avni"
   ]
  },
  {
   "cell_type": "markdown",
   "metadata": {},
   "source": [
    "## Executive Summary\n",
    "\n",
    "The purpose of this programming assignment is to provide a \"real-world\" demonstration of the runtime performance of the breadth-first-search (BFS) algorithm. BFS is a long standing key algorithm in the study of graph and tree search and traversal, with applications ranging from network community detection to shortest distance search. \n",
    "\n",
    "BFS search strategy is to traverse the tree or graph level by level, by queuing nodes in a first-in-first-out data structure.  \n",
    "\n",
    "BFS worst-case runtime performance in the $Big O$ notation is $O(|V| + |E|)$ with $|V|$ representing the number of vertices in the graph and $|E|$ representing the number of edges. \n",
    "\n",
    "We demonstrate that BFS runtime performance increases the deeper the searched item resides in the tree. Hence, for use cases where the deeper nested items are commonly searched, an alternative method such as depth-first-search (DFS) should be considered.\n"
   ]
  },
  {
   "cell_type": "markdown",
   "metadata": {},
   "source": [
    "## Method and Conclusions\n",
    "\n",
    "To demonstrate the various sort algorithm average-case performance, we prepared 1000 data elements consisting of a tuple of first name, last name, and state code selected randomly with no repetition or order.\n",
    "\n",
    "We sort the data 25 times using each of the four algorithms and measure the mean runtime performance. We show the results in both tabular and bar chart for and confirm the therotical results. \n",
    "\n",
    "We repeat the excercise with the data sorted in descending order to demonstrate the worst-case performance of quicksort and mergesort.\n",
    "\n",
    "The below chart shows the avergae case results.\n",
    "\n",
    "<img src=\"./runtime5.png\">"
   ]
  },
  {
   "cell_type": "markdown",
   "metadata": {},
   "source": [
    "## Implementation"
   ]
  },
  {
   "cell_type": "code",
   "execution_count": 90,
   "metadata": {},
   "outputs": [],
   "source": [
    "#import required packages\n",
    "from collections import deque\n",
    "import pandas as pd\n",
    "import time\n",
    "import matplotlib.pyplot as plt"
   ]
  },
  {
   "cell_type": "code",
   "execution_count": 91,
   "metadata": {},
   "outputs": [],
   "source": [
    "#breadth-first-search (bfs) implementation adapted and heavily modified from: \n",
    "#https://github.com/egonSchiele/grokking_algorithms/\n",
    "\n",
    "def breadth_first_search(tree, item):\n",
    "    search_queue = deque(['__root__'])\n",
    "    # This set is how you keep track of which items you've searched before.\n",
    "    searched = set()\n",
    "    while search_queue:\n",
    "        cur_item = search_queue.popleft()\n",
    "        # Only search this item if you haven't already searched them.\n",
    "        if cur_item not in searched:\n",
    "            if cur_item == item:\n",
    "                return True\n",
    "            else:\n",
    "                for child in tree[cur_item]:\n",
    "                    search_queue.append(child)\n",
    "                # Marks this item as searched\n",
    "                searched.add(cur_item)\n",
    "    return False"
   ]
  },
  {
   "cell_type": "code",
   "execution_count": 92,
   "metadata": {},
   "outputs": [
    {
     "data": {
      "text/plain": [
       "True"
      ]
     },
     "execution_count": 92,
     "metadata": {},
     "output_type": "execute_result"
    }
   ],
   "source": [
    "#unit test\n",
    "tree = {}\n",
    "tree['__root__'] = [\"danny\"]\n",
    "tree[\"danny\"] = [\"alice\", \"bob\", \"claire\"]\n",
    "tree[\"bob\"] = [\"anuj\", \"peggy\"]\n",
    "tree[\"alice\"] = [\"peggy\"]\n",
    "tree[\"claire\"] = [\"thom\", \"jonny\"]\n",
    "tree[\"anuj\"] = []\n",
    "tree[\"peggy\"] = []\n",
    "tree[\"thom\"] = []\n",
    "tree[\"jonny\"] = []\n",
    "\n",
    "breadth_first_search(tree, \"peggy\")"
   ]
  },
  {
   "cell_type": "code",
   "execution_count": 93,
   "metadata": {},
   "outputs": [],
   "source": [
    "#prepare data\n",
    "def add_tree_children(tree, item, count, level):\n",
    "    if level == 6:\n",
    "        return\n",
    "    \n",
    "    tree[item] = []\n",
    "    \n",
    "    for child in range(1, count+1):\n",
    "        child_item = '{}{}{}'.format(item if item != \"__root__\" else \"\", level+1, child)\n",
    "        tree[item].append(child_item)\n",
    "        add_tree_children(tree, child_item, count, level+1)\n",
    "\n",
    "tree = {}\n",
    "\n",
    "add_tree_children(tree, '__root__', 5, 0)"
   ]
  },
  {
   "cell_type": "code",
   "execution_count": 94,
   "metadata": {},
   "outputs": [],
   "source": [
    "search_levels = [1, 2, 3, 4, 5]\n",
    "\n",
    "test_results_col_names = ['search_level', 'search_item', 'search_ms']\n",
    "test_results           = pd.DataFrame(columns = test_results_col_names) \n",
    "\n",
    "search_prefix = ['1{}', '112{}', '11213{}', '1121314{}','112131415{}']\n",
    "\n",
    "for level in range(1,6):\n",
    "    for count in range(1,level+1):\n",
    "            search_item = search_prefix[level-1].format(count)\n",
    "            start   = time.time()\n",
    "            found = breadth_first_search(tree, search_item)\n",
    "            if found == False:\n",
    "                raise Exception(\"item not found\")\n",
    "            search_ms = (time.time() - start) * 1000\n",
    "            #insert the results into a new dataframe record \n",
    "            test_results.loc[len(test_results)] = [level, search_item, search_ms]"
   ]
  },
  {
   "cell_type": "code",
   "execution_count": 95,
   "metadata": {},
   "outputs": [
    {
     "data": {
      "text/html": [
       "<div>\n",
       "<style scoped>\n",
       "    .dataframe tbody tr th:only-of-type {\n",
       "        vertical-align: middle;\n",
       "    }\n",
       "\n",
       "    .dataframe tbody tr th {\n",
       "        vertical-align: top;\n",
       "    }\n",
       "\n",
       "    .dataframe thead th {\n",
       "        text-align: right;\n",
       "    }\n",
       "</style>\n",
       "<table border=\"1\" class=\"dataframe\">\n",
       "  <thead>\n",
       "    <tr style=\"text-align: right;\">\n",
       "      <th></th>\n",
       "      <th>search_level</th>\n",
       "      <th>search_item</th>\n",
       "      <th>search_ms</th>\n",
       "    </tr>\n",
       "  </thead>\n",
       "  <tbody>\n",
       "    <tr>\n",
       "      <th>0</th>\n",
       "      <td>1</td>\n",
       "      <td>11</td>\n",
       "      <td>0.012398</td>\n",
       "    </tr>\n",
       "    <tr>\n",
       "      <th>1</th>\n",
       "      <td>2</td>\n",
       "      <td>1121</td>\n",
       "      <td>0.016689</td>\n",
       "    </tr>\n",
       "    <tr>\n",
       "      <th>2</th>\n",
       "      <td>2</td>\n",
       "      <td>1122</td>\n",
       "      <td>0.016212</td>\n",
       "    </tr>\n",
       "    <tr>\n",
       "      <th>3</th>\n",
       "      <td>3</td>\n",
       "      <td>112131</td>\n",
       "      <td>0.067949</td>\n",
       "    </tr>\n",
       "    <tr>\n",
       "      <th>4</th>\n",
       "      <td>3</td>\n",
       "      <td>112132</td>\n",
       "      <td>0.045300</td>\n",
       "    </tr>\n",
       "    <tr>\n",
       "      <th>5</th>\n",
       "      <td>3</td>\n",
       "      <td>112133</td>\n",
       "      <td>0.153303</td>\n",
       "    </tr>\n",
       "    <tr>\n",
       "      <th>6</th>\n",
       "      <td>4</td>\n",
       "      <td>11213141</td>\n",
       "      <td>0.255585</td>\n",
       "    </tr>\n",
       "    <tr>\n",
       "      <th>7</th>\n",
       "      <td>4</td>\n",
       "      <td>11213142</td>\n",
       "      <td>0.238895</td>\n",
       "    </tr>\n",
       "    <tr>\n",
       "      <th>8</th>\n",
       "      <td>4</td>\n",
       "      <td>11213143</td>\n",
       "      <td>0.230789</td>\n",
       "    </tr>\n",
       "    <tr>\n",
       "      <th>9</th>\n",
       "      <td>4</td>\n",
       "      <td>11213144</td>\n",
       "      <td>0.247002</td>\n",
       "    </tr>\n",
       "    <tr>\n",
       "      <th>10</th>\n",
       "      <td>5</td>\n",
       "      <td>1121314151</td>\n",
       "      <td>1.018047</td>\n",
       "    </tr>\n",
       "    <tr>\n",
       "      <th>11</th>\n",
       "      <td>5</td>\n",
       "      <td>1121314152</td>\n",
       "      <td>0.863791</td>\n",
       "    </tr>\n",
       "    <tr>\n",
       "      <th>12</th>\n",
       "      <td>5</td>\n",
       "      <td>1121314153</td>\n",
       "      <td>1.108408</td>\n",
       "    </tr>\n",
       "    <tr>\n",
       "      <th>13</th>\n",
       "      <td>5</td>\n",
       "      <td>1121314154</td>\n",
       "      <td>1.056194</td>\n",
       "    </tr>\n",
       "    <tr>\n",
       "      <th>14</th>\n",
       "      <td>5</td>\n",
       "      <td>1121314155</td>\n",
       "      <td>0.892162</td>\n",
       "    </tr>\n",
       "  </tbody>\n",
       "</table>\n",
       "</div>"
      ],
      "text/plain": [
       "   search_level search_item  search_ms\n",
       "0             1          11   0.012398\n",
       "1             2        1121   0.016689\n",
       "2             2        1122   0.016212\n",
       "3             3      112131   0.067949\n",
       "4             3      112132   0.045300\n",
       "5             3      112133   0.153303\n",
       "6             4    11213141   0.255585\n",
       "7             4    11213142   0.238895\n",
       "8             4    11213143   0.230789\n",
       "9             4    11213144   0.247002\n",
       "10            5  1121314151   1.018047\n",
       "11            5  1121314152   0.863791\n",
       "12            5  1121314153   1.108408\n",
       "13            5  1121314154   1.056194\n",
       "14            5  1121314155   0.892162"
      ]
     },
     "execution_count": 95,
     "metadata": {},
     "output_type": "execute_result"
    }
   ],
   "source": [
    "test_results"
   ]
  },
  {
   "cell_type": "code",
   "execution_count": 96,
   "metadata": {},
   "outputs": [],
   "source": [
    "test_results_mean = test_results.groupby(['search_level'], as_index=False)['search_ms'].mean()"
   ]
  },
  {
   "cell_type": "markdown",
   "metadata": {},
   "source": [
    "Below is a tabular representation of the test data. It is useful as the charts fail to show the minute fluctuations in the binary search performance. To get a true read of the binary search performance we will need to run multiple tests and average the results, as well as increase the size. We should also try to execute the code in a virtualized environment where the CPU is under competition from other processes."
   ]
  },
  {
   "cell_type": "code",
   "execution_count": 97,
   "metadata": {},
   "outputs": [
    {
     "data": {
      "text/html": [
       "<div>\n",
       "<style scoped>\n",
       "    .dataframe tbody tr th:only-of-type {\n",
       "        vertical-align: middle;\n",
       "    }\n",
       "\n",
       "    .dataframe tbody tr th {\n",
       "        vertical-align: top;\n",
       "    }\n",
       "\n",
       "    .dataframe thead th {\n",
       "        text-align: right;\n",
       "    }\n",
       "</style>\n",
       "<table border=\"1\" class=\"dataframe\">\n",
       "  <thead>\n",
       "    <tr style=\"text-align: right;\">\n",
       "      <th></th>\n",
       "      <th>search_level</th>\n",
       "      <th>search_ms</th>\n",
       "    </tr>\n",
       "  </thead>\n",
       "  <tbody>\n",
       "    <tr>\n",
       "      <th>0</th>\n",
       "      <td>1</td>\n",
       "      <td>0.012398</td>\n",
       "    </tr>\n",
       "    <tr>\n",
       "      <th>1</th>\n",
       "      <td>2</td>\n",
       "      <td>0.016451</td>\n",
       "    </tr>\n",
       "    <tr>\n",
       "      <th>2</th>\n",
       "      <td>3</td>\n",
       "      <td>0.088851</td>\n",
       "    </tr>\n",
       "    <tr>\n",
       "      <th>3</th>\n",
       "      <td>4</td>\n",
       "      <td>0.243068</td>\n",
       "    </tr>\n",
       "    <tr>\n",
       "      <th>4</th>\n",
       "      <td>5</td>\n",
       "      <td>0.987720</td>\n",
       "    </tr>\n",
       "  </tbody>\n",
       "</table>\n",
       "</div>"
      ],
      "text/plain": [
       "   search_level  search_ms\n",
       "0             1   0.012398\n",
       "1             2   0.016451\n",
       "2             3   0.088851\n",
       "3             4   0.243068\n",
       "4             5   0.987720"
      ]
     },
     "execution_count": 97,
     "metadata": {},
     "output_type": "execute_result"
    }
   ],
   "source": [
    "test_results_mean"
   ]
  },
  {
   "cell_type": "code",
   "execution_count": 98,
   "metadata": {},
   "outputs": [
    {
     "data": {
      "image/png": "[encoded data removed]",
      "text/plain": [
       "<Figure size 576x288 with 1 Axes>"
      ]
     },
     "metadata": {
      "needs_background": "light"
     },
     "output_type": "display_data"
    }
   ],
   "source": [
    "#plot the binary and linear search results against the data length\n",
    "plt.figure(figsize=(8,4))\n",
    "plt.barh(test_results_mean.search_level, test_results_mean.search_ms, height=0.3, \n",
    "         color=['red', 'green', 'blue', 'cyan','orange'])\n",
    "plt.ylabel('search level')\n",
    "plt.xlabel('runtime (msec)')\n",
    "plt.title('mean breadth-first-search runtime by level (msec)')\n",
    "plt.show()"
   ]
  },
  {
   "cell_type": "code",
   "execution_count": null,
   "metadata": {},
   "outputs": [],
   "source": []
  }
 ],
 "metadata": {
  "kernelspec": {
   "display_name": "Python 3",
   "language": "python",
   "name": "python3"
  },
  "language_info": {
   "codemirror_mode": {
    "name": "ipython",
    "version": 3
   },
   "file_extension": ".py",
   "mimetype": "text/x-python",
   "name": "python",
   "nbconvert_exporter": "python",
   "pygments_lexer": "ipython3",
   "version": "3.7.1"
  }
 },
 "nbformat": 4,
 "nbformat_minor": 2
}
