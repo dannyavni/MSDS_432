{
 "cells": [
  {
   "cell_type": "markdown",
   "metadata": {},
   "source": [
    "## MSDS 432 - Programming Assignment #4 Dan Avni"
   ]
  },
  {
   "cell_type": "markdown",
   "metadata": {},
   "source": [
    "## Executive Summary\n",
    "\n",
    "The purpose of this programming assignment is to provide a \"real-world\" demonstration of the runtime growth of a poor performing sort algorithm such as selection sort, a naïve algorithm that scans the data, looking for the smallest or largest item, depending on the desired sort order, and places that item in the appropriate location, swapping it with the item that previously occupied that slot. \n",
    "\n",
    "In Big O notation the worst-case performance of that selection sort algorithm is O(n^2) with n being the dataset size. \n",
    "While the selection sort algorithm is easy to implement and requires little overhead in terms of memory, several more efficient algorithms exist. A general-purpose algorithm such as merge or quick sort can accomplish an O(n*log(n)) runtime, which in practical sense can make the difference between a feasible and infeasible solution. With some assumptions about data distribution, some algorithms can deliver an O(n) as well.\n",
    "\n",
    "Therefore, it is not generally recommended to use a selection sort algorithm, unless the data size is modest, and simplicity is preferred over runtime performance.\n"
   ]
  },
  {
   "cell_type": "markdown",
   "metadata": {},
   "source": [
    "## Method and Conclusions\n",
    "\n",
    "To demonstrate the selection sort algorithm performance, we prepared 20 data arrays with various lengths and data types including random, uniformly distributed data. \n",
    "\n",
    "The available lengths were 5,000, 10,000, 15,000, 20,000, and 25,000 elements, and the data types included integers ranging from 0 to 10000, decimal representing a floating-point number between -1 and 1, random character string of length 5 and 15.\n",
    "\n",
    "With the random data in hand, we conducted the selection sort algorithm and captured the runtime performance in milliseconds using the elapsed clock time.  \n",
    "While we did not produce an actual exponential growth pattern, the charts suggest a non-linear increase in runtime. \n",
    "Below is a plot of a sample runtime result study. We note that the runtime for str15 was the highest likely due to longer time to compare and swap the items, followed by str5. The integer and decimal sorts performed comparability, since the compare and swap operations for small numeric values can be performed extremely efficiently by modern CPUs.\n",
    "\n",
    "The below chart shows the complete results. A table with the same data is provided below. Furthermore, we note that the actual results fluctuated between runs as the effect of competing tasks (noise) occasionally exceeded the measured effect (signal). We would like to repeat this test in an insulated environment as well as randomize the calls order.\n",
    "\n",
    "<img src=\"./runtime2.png\">"
   ]
  },
  {
   "cell_type": "markdown",
   "metadata": {},
   "source": [
    "## Implementation"
   ]
  },
  {
   "cell_type": "code",
   "execution_count": 1,
   "metadata": {},
   "outputs": [],
   "source": [
    "#import required packages\n",
    "import numpy as np\n",
    "import matplotlib.pyplot as plt\n",
    "import pandas as pd\n",
    "import time\n",
    "import string\n",
    "import random"
   ]
  },
  {
   "cell_type": "code",
   "execution_count": 14,
   "metadata": {},
   "outputs": [],
   "source": [
    "# selection sort implemntation retrieved from:\n",
    "# https://github.com/egonSchiele/grokking_algorithms/blob/master/02_selection_sort/python/01_selection_sort.py\n",
    "\n",
    "# Finds the smallest value in an array\n",
    "def findSmallest(arr):\n",
    "  # Stores the smallest value\n",
    "  smallest = arr[0]\n",
    "  # Stores the index of the smallest value\n",
    "  smallest_index = 0\n",
    "  for i in range(1, len(arr)):\n",
    "    if arr[i] < smallest:\n",
    "      smallest_index = i\n",
    "      smallest = arr[i]      \n",
    "  return smallest_index\n",
    "\n",
    "# Sort array\n",
    "def selectionSort(arr):\n",
    "  newArr = []\n",
    "  for i in range(len(arr)):\n",
    "      # Finds the smallest element in the array and adds it to the new array\n",
    "      smallest = findSmallest(arr)\n",
    "      newArr.append(arr.pop(smallest))\n",
    "  return newArr"
   ]
  },
  {
   "cell_type": "code",
   "execution_count": 3,
   "metadata": {},
   "outputs": [],
   "source": [
    "# quick sort implemntation retrieved from:\n",
    "# https://github.com/egonSchiele/grokking_algorithms/blob/master/04_quicksort/python/05_quicksort.py\n",
    "\n",
    "def quicksort(array):\n",
    "  if len(array) < 2:\n",
    "    # base case, arrays with 0 or 1 element are already \"sorted\"\n",
    "    return array\n",
    "  else:\n",
    "    # recursive case\n",
    "    pivot = array[0]\n",
    "    # sub-array of all the elements less than the pivot\n",
    "    less = [i for i in array[1:] if i <= pivot]\n",
    "    # sub-array of all the elements greater than the pivot\n",
    "    greater = [i for i in array[1:] if i > pivot]\n",
    "    return quicksort(less) + [pivot] + quicksort(greater)"
   ]
  },
  {
   "cell_type": "code",
   "execution_count": 8,
   "metadata": {},
   "outputs": [],
   "source": [
    "# insertion sort implementation based on pseducode from https://en.wikipedia.org/wiki/Insertion_sort\n",
    "\n",
    "def insertionSort(array):\n",
    "    i = 1\n",
    "    while i < len(array):\n",
    "        j = i\n",
    "        while j > 0 and array[j-1] > array[j]:\n",
    "            array[j], array[j-1] = array[j-1], array[j]\n",
    "            j = j - 1\n",
    "        i = i + 1\n",
    "    return array"
   ]
  },
  {
   "cell_type": "code",
   "execution_count": 221,
   "metadata": {},
   "outputs": [],
   "source": [
    "# merge sort implementation\n",
    "\n",
    "def mergeSort(array):\n",
    "    l = len(array)\n",
    "    \n",
    "    if l < 2:\n",
    "        return array\n",
    "\n",
    "    array1 = mergeSort(array[0:l//2])\n",
    "    array2 = mergeSort(array[l//2:l])\n",
    "\n",
    "    i, i1, i2, l1, l2 = 0, 0, 0, len(array1), len(array2)\n",
    "    \n",
    "    while i < l:\n",
    "        if i1 < l1 and (i2 == l2 or array1[i1] < array2[i2]):\n",
    "            array[i] = array1[i1]\n",
    "            i1 = i1 + 1\n",
    "        else:\n",
    "            array[i] = array2[i2]\n",
    "            i2 = i2 + 1\n",
    "        i = i1 + i2\n",
    "    return array"
   ]
  },
  {
   "cell_type": "code",
   "execution_count": 222,
   "metadata": {
    "scrolled": false
   },
   "outputs": [
    {
     "name": "stdout",
     "output_type": "stream",
     "text": [
      "['-12', '0', '5', '@', 'a', 'asds', 'c', 'za', 'zz']\n",
      "['-12', '0', '5', '@', 'a', 'asds', 'c', 'za', 'zz']\n",
      "['-12', '0', '5', '@', 'a', 'asds', 'c', 'za', 'zz']\n",
      "['-12', '0', '5', '@', 'a', 'asds', 'c', 'za', 'zz']\n"
     ]
    }
   ],
   "source": [
    "#unit test validation of the selection sort implementation\n",
    "array = ['a', 'za', 'c', 'zz', '0', '5', '-12','@','asds']\n",
    "\n",
    "print(selectionSort(array.copy()))\n",
    "print(insertionSort(array.copy()))\n",
    "print(quicksort(array.copy()))\n",
    "print(mergeSort(array.copy()))"
   ]
  },
  {
   "cell_type": "code",
   "execution_count": 223,
   "metadata": {},
   "outputs": [],
   "source": [
    "state_codes = \\\n",
    "    [\n",
    "    'AK', 'AL', 'AR', 'AZ', 'CA', 'CO', 'CT', 'DE', 'FL', 'GA',\n",
    "    'HI', 'IA', 'ID', 'IL', 'IN', 'KS', 'KY', 'LA', 'MA', 'MD', \n",
    "    'ME', 'MI', 'MN', 'MO', 'MS', 'MT', 'NC', 'ND', 'NE', 'NH', \n",
    "    'NJ', 'NM', 'NV', 'NY', 'OH', 'OK', 'OR', 'PA', 'RI', 'SC', \n",
    "    'SD', 'TN', 'TX', 'UT', 'VA', 'VT', 'WA', 'WI', 'WV', 'WY'\n",
    "    ]"
   ]
  },
  {
   "cell_type": "code",
   "execution_count": 224,
   "metadata": {},
   "outputs": [],
   "source": [
    "test_data = []\n",
    "for i in range(0,1000):\n",
    "    first_name = ''.join(random.choices(string.ascii_letters, k = 10)) \n",
    "    last_name  = ''.join(random.choices(string.ascii_letters, k = 10)) \n",
    "    state_code = state_codes[np.random.randint(0,49)]\n",
    "    test_data.append((first_name, last_name, state_code))"
   ]
  },
  {
   "cell_type": "code",
   "execution_count": 225,
   "metadata": {},
   "outputs": [],
   "source": [
    "sort_methods = [insertionSort, quicksort, mergeSort, selectionSort]\n",
    "\n",
    "#prepare an empty data frame with the desired column names\n",
    "test_results_col_names = ['sort_method', 'sort_ms']\n",
    "test_results           = pd.DataFrame(columns = test_results_col_names) \n",
    "\n",
    "#iterate over the possible sort methods compture runtime length in milliseconds\n",
    "for i in range(0,25):\n",
    "    for sort_method in sort_methods:\n",
    "            start   = time.time()\n",
    "            data    = sort_method(test_data.copy())\n",
    "            sort_ms = (time.time() - start) * 1000\n",
    "            #insert the results into a new dataframe record \n",
    "            test_results.loc[len(test_results)] = [sort_method.__name__, sort_ms]"
   ]
  },
  {
   "cell_type": "code",
   "execution_count": 226,
   "metadata": {},
   "outputs": [],
   "source": [
    "test_results_mean = test_results.groupby(['sort_method'])['sort_ms'].mean().to_frame()"
   ]
  },
  {
   "cell_type": "markdown",
   "metadata": {},
   "source": [
    "Below is a tabular representation of the test data. It is useful as the charts fail to show the minute fluctuations in the binary search performance. To get a true read of the binary search performance we will need to run multiple tests and average the results, as well as increase the size. We should also try to execute the code in a virtualized environment where the CPU is under competition from other processes."
   ]
  },
  {
   "cell_type": "code",
   "execution_count": 227,
   "metadata": {},
   "outputs": [
    {
     "data": {
      "text/html": [
       "<div>\n",
       "<style scoped>\n",
       "    .dataframe tbody tr th:only-of-type {\n",
       "        vertical-align: middle;\n",
       "    }\n",
       "\n",
       "    .dataframe tbody tr th {\n",
       "        vertical-align: top;\n",
       "    }\n",
       "\n",
       "    .dataframe thead th {\n",
       "        text-align: right;\n",
       "    }\n",
       "</style>\n",
       "<table border=\"1\" class=\"dataframe\">\n",
       "  <thead>\n",
       "    <tr style=\"text-align: right;\">\n",
       "      <th></th>\n",
       "      <th>sort_ms</th>\n",
       "    </tr>\n",
       "    <tr>\n",
       "      <th>sort_method</th>\n",
       "      <th></th>\n",
       "    </tr>\n",
       "  </thead>\n",
       "  <tbody>\n",
       "    <tr>\n",
       "      <th>insertionSort</th>\n",
       "      <td>107.306185</td>\n",
       "    </tr>\n",
       "    <tr>\n",
       "      <th>mergeSort</th>\n",
       "      <td>4.580345</td>\n",
       "    </tr>\n",
       "    <tr>\n",
       "      <th>quicksort</th>\n",
       "      <td>3.541222</td>\n",
       "    </tr>\n",
       "    <tr>\n",
       "      <th>selectionSort</th>\n",
       "      <td>55.689135</td>\n",
       "    </tr>\n",
       "  </tbody>\n",
       "</table>\n",
       "</div>"
      ],
      "text/plain": [
       "                  sort_ms\n",
       "sort_method              \n",
       "insertionSort  107.306185\n",
       "mergeSort        4.580345\n",
       "quicksort        3.541222\n",
       "selectionSort   55.689135"
      ]
     },
     "execution_count": 227,
     "metadata": {},
     "output_type": "execute_result"
    }
   ],
   "source": [
    "#plain text data dump of the test results\n",
    "test_results_mean"
   ]
  },
  {
   "cell_type": "code",
   "execution_count": 220,
   "metadata": {},
   "outputs": [
    {
     "data": {
      "image/png": "[encoded data removed]",
      "text/plain": [
       "<Figure size 576x288 with 1 Axes>"
      ]
     },
     "metadata": {
      "needs_background": "light"
     },
     "output_type": "display_data"
    }
   ],
   "source": [
    "#plot the binary and linear search results against the data length\n",
    "plt.figure(figsize=(8,4))\n",
    "\n",
    "plt.barh(test_results.sort_method, test_results.sort_ms, height=0.3, color=['red', 'green', 'blue', 'cyan'])\n",
    "\n",
    "plt.xlabel('sort method')\n",
    "plt.ylabel('runtime (msec)')\n",
    "plt.title('mean sort runtime by algorithm (msec)')\n",
    "plt.show()"
   ]
  },
  {
   "cell_type": "markdown",
   "metadata": {},
   "source": [
    "## Extra Credit"
   ]
  },
  {
   "cell_type": "markdown",
   "metadata": {},
   "source": [
    "Let's look at worst case performance of quicksort versus merge sort"
   ]
  },
  {
   "cell_type": "code",
   "execution_count": 231,
   "metadata": {},
   "outputs": [],
   "source": [
    "sort_methods = [quicksort, mergeSort]\n",
    "\n",
    "#prepare an empty data frame with the desired column names\n",
    "test_results_col_names = ['sort_method', 'sort_ms']\n",
    "test_results           = pd.DataFrame(columns = test_results_col_names) \n",
    "\n",
    "#iterate over the possible sort methods compture runtime length in milliseconds\n",
    "for i in range(0,25):\n",
    "    for sort_method in sort_methods:\n",
    "            test_data_copy = sorted(test_data, reverse=True)\n",
    "            start   = time.time()\n",
    "            data    = sort_method(test_data_copy)\n",
    "            sort_ms = (time.time() - start) * 1000\n",
    "            #insert the results into a new dataframe record \n",
    "            test_results.loc[len(test_results)] = [sort_method.__name__, sort_ms]"
   ]
  },
  {
   "cell_type": "code",
   "execution_count": 232,
   "metadata": {},
   "outputs": [],
   "source": [
    "test_results_mean = test_results.groupby(['sort_method'])['sort_ms'].mean().to_frame()"
   ]
  },
  {
   "cell_type": "markdown",
   "metadata": {},
   "source": [
    "Below is a tabular representation of the test data. It is useful as the charts fail to show the minute fluctuations in the binary search performance. To get a true read of the binary search performance we will need to run multiple tests and average the results, as well as increase the size. We should also try to execute the code in a virtualized environment where the CPU is under competition from other processes."
   ]
  },
  {
   "cell_type": "code",
   "execution_count": 233,
   "metadata": {},
   "outputs": [
    {
     "data": {
      "text/html": [
       "<div>\n",
       "<style scoped>\n",
       "    .dataframe tbody tr th:only-of-type {\n",
       "        vertical-align: middle;\n",
       "    }\n",
       "\n",
       "    .dataframe tbody tr th {\n",
       "        vertical-align: top;\n",
       "    }\n",
       "\n",
       "    .dataframe thead th {\n",
       "        text-align: right;\n",
       "    }\n",
       "</style>\n",
       "<table border=\"1\" class=\"dataframe\">\n",
       "  <thead>\n",
       "    <tr style=\"text-align: right;\">\n",
       "      <th></th>\n",
       "      <th>sort_ms</th>\n",
       "    </tr>\n",
       "    <tr>\n",
       "      <th>sort_method</th>\n",
       "      <th></th>\n",
       "    </tr>\n",
       "  </thead>\n",
       "  <tbody>\n",
       "    <tr>\n",
       "      <th>mergeSort</th>\n",
       "      <td>4.131603</td>\n",
       "    </tr>\n",
       "    <tr>\n",
       "      <th>quicksort</th>\n",
       "      <td>143.401976</td>\n",
       "    </tr>\n",
       "  </tbody>\n",
       "</table>\n",
       "</div>"
      ],
      "text/plain": [
       "                sort_ms\n",
       "sort_method            \n",
       "mergeSort      4.131603\n",
       "quicksort    143.401976"
      ]
     },
     "execution_count": 233,
     "metadata": {},
     "output_type": "execute_result"
    }
   ],
   "source": [
    "#plain text data dump of the test results\n",
    "test_results_mean"
   ]
  },
  {
   "cell_type": "code",
   "execution_count": 235,
   "metadata": {},
   "outputs": [
    {
     "data": {
      "image/png": "[encoded data removed]",
      "text/plain": [
       "<Figure size 576x288 with 1 Axes>"
      ]
     },
     "metadata": {
      "needs_background": "light"
     },
     "output_type": "display_data"
    }
   ],
   "source": [
    "#plot the binary and linear search results against the data length\n",
    "plt.figure(figsize=(8,4))\n",
    "\n",
    "plt.barh(test_results.sort_method, test_results.sort_ms, height=0.3, color=['blue', 'cyan'])\n",
    "\n",
    "plt.xlabel('sort method')\n",
    "plt.ylabel('runtime (msec)')\n",
    "plt.title('mean sort runtime by algorithm (msec)')\n",
    "plt.show()"
   ]
  },
  {
   "cell_type": "code",
   "execution_count": null,
   "metadata": {},
   "outputs": [],
   "source": []
  }
 ],
 "metadata": {
  "kernelspec": {
   "display_name": "Python 3",
   "language": "python",
   "name": "python3"
  },
  "language_info": {
   "codemirror_mode": {
    "name": "ipython",
    "version": 3
   },
   "file_extension": ".py",
   "mimetype": "text/x-python",
   "name": "python",
   "nbconvert_exporter": "python",
   "pygments_lexer": "ipython3",
   "version": "3.7.1"
  }
 },
 "nbformat": 4,
 "nbformat_minor": 2
}
